{
 "cells": [
  {
   "cell_type": "markdown",
   "id": "139d17a5",
   "metadata": {},
   "source": [
    "# Object Oriented Programming"
   ]
  },
  {
   "cell_type": "code",
   "execution_count": 1,
   "id": "0869404f",
   "metadata": {},
   "outputs": [],
   "source": [
    "#class keyword"
   ]
  },
  {
   "cell_type": "code",
   "execution_count": 82,
   "id": "ee33b86d",
   "metadata": {},
   "outputs": [],
   "source": [
    "class Dog():   #use capital on the words\n",
    "   #__init__ is used when def a method in a class\n",
    "\n",
    "    #CLASS OBJECT ATTRIBUTE\n",
    "    #SAME FOR ANY INSTANCE OF A CLASS\n",
    "    species = 'mammal'\n",
    "    \n",
    "    #add spots behind name if using the self.spots attribute below\n",
    "    def __init__(self,breed,name):        \n",
    "        \n",
    "        #attributes- dont need () after a method\n",
    "        #we take in the argument\n",
    "        #Assign it using self.attribute_name\n",
    "        self.breed = breed\n",
    "        self.name = name\n",
    "        \n",
    "        #Expect boolean True/False\n",
    "        #self.spots = spots- attribute, take out comment to use\n",
    "        \n",
    "        #OPERATIONS/Actions --->Methods- need () when using methods\n",
    "    def bark(self):\n",
    "            print(\"WOOF! My name is {}\".format(self.name))"
   ]
  },
  {
   "cell_type": "code",
   "execution_count": 83,
   "id": "67dd4f7d",
   "metadata": {},
   "outputs": [],
   "source": [
    "#my_dog = Dog(breed = 'lab',name='Sammy',spots=False)--Use this one if you uncomment self.spots above\n",
    "my_dog = Dog('Lab', 'Frankie')"
   ]
  },
  {
   "cell_type": "code",
   "execution_count": 84,
   "id": "c7936551",
   "metadata": {},
   "outputs": [
    {
     "data": {
      "text/plain": [
       "__main__.Dog"
      ]
     },
     "execution_count": 84,
     "metadata": {},
     "output_type": "execute_result"
    }
   ],
   "source": [
    "type(my_dog)"
   ]
  },
  {
   "cell_type": "code",
   "execution_count": 85,
   "id": "af6b2830",
   "metadata": {},
   "outputs": [
    {
     "data": {
      "text/plain": [
       "'mammal'"
      ]
     },
     "execution_count": 85,
     "metadata": {},
     "output_type": "execute_result"
    }
   ],
   "source": [
    "my_dog.species  #if you click on tab after my_dog. it will show you the other attributes you can call"
   ]
  },
  {
   "cell_type": "code",
   "execution_count": 86,
   "id": "a3ce03a9",
   "metadata": {},
   "outputs": [
    {
     "data": {
      "text/plain": [
       "'Frankie'"
      ]
     },
     "execution_count": 86,
     "metadata": {},
     "output_type": "execute_result"
    }
   ],
   "source": [
    "my_dog.name"
   ]
  },
  {
   "cell_type": "code",
   "execution_count": 87,
   "id": "3f46b82a",
   "metadata": {},
   "outputs": [
    {
     "name": "stdout",
     "output_type": "stream",
     "text": [
      "WOOF! My name is Frankie\n"
     ]
    }
   ],
   "source": [
    "my_dog.bark()"
   ]
  },
  {
   "cell_type": "code",
   "execution_count": 96,
   "id": "72784d3b",
   "metadata": {},
   "outputs": [],
   "source": [
    "#inheritance\n",
    "class Animal():    #base class\n",
    "    \n",
    "    def __init__(self):\n",
    "        print(\"ANIMAL CREATED\")\n",
    "        \n",
    "    def who_am_i(self):\n",
    "        print(\"I am an animal\")\n",
    "        \n",
    "    def eat(self):\n",
    "        print(\"I am eating\")"
   ]
  },
  {
   "cell_type": "code",
   "execution_count": 103,
   "id": "57ff02f8",
   "metadata": {},
   "outputs": [],
   "source": [
    "class Dog(Animal):#using a previous class Dog and passing the class Animal through it\n",
    "    \n",
    "    def _init__(self):\n",
    "        Animal.__init__(self)\n",
    "        print(\"Dog Created\")\n",
    "        \n",
    "    def who_am_i(self):  #if you want to rewrite methods from other classes, you'll need to use the same method name and rewrite in the class you are calling. For example: class Animal has method who_am_i. If you want to change that in class dog, simply type who_am_i and change it\n",
    "        print(\"I am a dog!\")"
   ]
  },
  {
   "cell_type": "code",
   "execution_count": 105,
   "id": "1f43a454",
   "metadata": {},
   "outputs": [
    {
     "name": "stdout",
     "output_type": "stream",
     "text": [
      "ANIMAL CREATED\n"
     ]
    }
   ],
   "source": [
    "mydog = Dog()"
   ]
  },
  {
   "cell_type": "code",
   "execution_count": 106,
   "id": "c2a5cdcb",
   "metadata": {},
   "outputs": [
    {
     "name": "stdout",
     "output_type": "stream",
     "text": [
      "ANIMAL CREATED\n"
     ]
    }
   ],
   "source": [
    "mydog = Dog()"
   ]
  },
  {
   "cell_type": "code",
   "execution_count": 107,
   "id": "f3a9e3b7",
   "metadata": {},
   "outputs": [
    {
     "name": "stdout",
     "output_type": "stream",
     "text": [
      "I am a dog!\n"
     ]
    }
   ],
   "source": [
    "mydog.who_am_i()"
   ]
  },
  {
   "cell_type": "code",
   "execution_count": null,
   "id": "e61f6bf4",
   "metadata": {},
   "outputs": [],
   "source": []
  },
  {
   "cell_type": "code",
   "execution_count": 102,
   "id": "7e433250",
   "metadata": {},
   "outputs": [
    {
     "name": "stdout",
     "output_type": "stream",
     "text": [
      "I am eating\n"
     ]
    }
   ],
   "source": [
    "mydog.eat()    #if you type mydog. and then hit tab, you'll see the options the were formed in the Animal class instead of the dog class because you inherited the Animal class by typing 'class Dog(Animal)' above"
   ]
  },
  {
   "cell_type": "code",
   "execution_count": 92,
   "id": "cabfa6b8",
   "metadata": {},
   "outputs": [
    {
     "name": "stdout",
     "output_type": "stream",
     "text": [
      "ANIMAL CREATED\n"
     ]
    }
   ],
   "source": [
    "myanimal=Animal()"
   ]
  },
  {
   "cell_type": "code",
   "execution_count": 93,
   "id": "b88c2d37",
   "metadata": {},
   "outputs": [
    {
     "name": "stdout",
     "output_type": "stream",
     "text": [
      "I am eating\n"
     ]
    }
   ],
   "source": [
    "myanimal.eat()"
   ]
  },
  {
   "cell_type": "code",
   "execution_count": 95,
   "id": "3630cfd4",
   "metadata": {},
   "outputs": [
    {
     "name": "stdout",
     "output_type": "stream",
     "text": [
      "I am an animal\n"
     ]
    }
   ],
   "source": [
    "myanimal.who_am_i()"
   ]
  },
  {
   "cell_type": "markdown",
   "id": "48268af9",
   "metadata": {},
   "source": [
    "SPECIAL METHODS"
   ]
  },
  {
   "cell_type": "code",
   "execution_count": 122,
   "id": "3df5f12a",
   "metadata": {},
   "outputs": [],
   "source": [
    "class Book():\n",
    "    \n",
    "    \n",
    "    def __init__(self,title,author,pages):\n",
    "        \n",
    "        self.title = title\n",
    "        self.author = author\n",
    "        self.pages = pages\n",
    "    \n",
    "    def __str__(self):   #special method checks for strings\n",
    "        return f\"{self.title} by {self.author}\"\n",
    "    \n",
    "    def __len__(self):\n",
    "        return self.pages\n",
    "    \n",
    "    def __del__(self):\n",
    "        print(\"A book object has been deleted\")\n",
    "    "
   ]
  },
  {
   "cell_type": "code",
   "execution_count": 123,
   "id": "c4daca35",
   "metadata": {},
   "outputs": [],
   "source": [
    "b = Book('Python rocks', 'Jose', 200)"
   ]
  },
  {
   "cell_type": "code",
   "execution_count": 119,
   "id": "01420665",
   "metadata": {},
   "outputs": [
    {
     "name": "stdout",
     "output_type": "stream",
     "text": [
      "Python rocks by Jose\n"
     ]
    }
   ],
   "source": [
    "print(b)  #wont print unless you have the special method"
   ]
  },
  {
   "cell_type": "code",
   "execution_count": 120,
   "id": "4c585764",
   "metadata": {},
   "outputs": [
    {
     "data": {
      "text/plain": [
       "200"
      ]
     },
     "execution_count": 120,
     "metadata": {},
     "output_type": "execute_result"
    }
   ],
   "source": [
    "len(b)   #special method to return pages"
   ]
  },
  {
   "cell_type": "code",
   "execution_count": null,
   "id": "2c06c5c2",
   "metadata": {},
   "outputs": [],
   "source": [
    "#to delete a variable  del variable_name. example book run del b."
   ]
  },
  {
   "cell_type": "code",
   "execution_count": 124,
   "id": "bd643df4",
   "metadata": {},
   "outputs": [
    {
     "name": "stdout",
     "output_type": "stream",
     "text": [
      "A book object has been deleted\n"
     ]
    }
   ],
   "source": [
    "del b"
   ]
  },
  {
   "cell_type": "code",
   "execution_count": 125,
   "id": "2f65e920",
   "metadata": {},
   "outputs": [
    {
     "ename": "NameError",
     "evalue": "name 'b' is not defined",
     "output_type": "error",
     "traceback": [
      "\u001b[1;31m---------------------------------------------------------------------------\u001b[0m",
      "\u001b[1;31mNameError\u001b[0m                                 Traceback (most recent call last)",
      "\u001b[1;32m~\\AppData\\Local\\Temp/ipykernel_7376/1685013873.py\u001b[0m in \u001b[0;36m<module>\u001b[1;34m\u001b[0m\n\u001b[1;32m----> 1\u001b[1;33m \u001b[0mb\u001b[0m\u001b[1;33m\u001b[0m\u001b[1;33m\u001b[0m\u001b[0m\n\u001b[0m",
      "\u001b[1;31mNameError\u001b[0m: name 'b' is not defined"
     ]
    }
   ],
   "source": [
    "b"
   ]
  },
  {
   "cell_type": "markdown",
   "id": "34dd85c7",
   "metadata": {},
   "source": [
    "HOMEWORK"
   ]
  },
  {
   "cell_type": "code",
   "execution_count": null,
   "id": "0223ab62",
   "metadata": {},
   "outputs": [],
   "source": [
    "#1\n",
    "#Fill in the Line class methods to accept coordinates as a pair of tuples and return the slope and distance of the line."
   ]
  },
  {
   "cell_type": "code",
   "execution_count": 130,
   "id": "cb41a6d8",
   "metadata": {},
   "outputs": [],
   "source": [
    "class Line(object):\n",
    "    \n",
    "    def __init__(self,coor1,coor2):\n",
    "        self.coor1 = coor1\n",
    "        self.coor2 = coor2\n",
    "    \n",
    "    def distance(self):\n",
    "        x1,y1 = self.coor1  #TUPLE UNPACKING\n",
    "        x2,y2 = self.coor2  #TUPLE UNPACKING\n",
    "        return ((x2-x1)**2 + (y2-y1)**2)**0.5  #DISTANCE FORMULA\n",
    "    \n",
    "    def slope(self):\n",
    "        x1,y1 = self.coor1\n",
    "        x2,y2 = self.coor2\n",
    "        return (y2-y1)/(x2-x1)  #SLOPE FORMULA"
   ]
  },
  {
   "cell_type": "code",
   "execution_count": 131,
   "id": "0ddb137c",
   "metadata": {},
   "outputs": [],
   "source": [
    "# these are the coordinates in the form of tuples\n",
    "c1 = (3,2)\n",
    "c2 = (8,10)\n"
   ]
  },
  {
   "cell_type": "code",
   "execution_count": 132,
   "id": "7e40a229",
   "metadata": {},
   "outputs": [],
   "source": [
    "myline = Line(c1,c2)"
   ]
  },
  {
   "cell_type": "code",
   "execution_count": 133,
   "id": "bf11a479",
   "metadata": {},
   "outputs": [
    {
     "data": {
      "text/plain": [
       "9.433981132056603"
      ]
     },
     "execution_count": 133,
     "metadata": {},
     "output_type": "execute_result"
    }
   ],
   "source": [
    "myline.distance()"
   ]
  },
  {
   "cell_type": "code",
   "execution_count": 134,
   "id": "52d8421c",
   "metadata": {},
   "outputs": [
    {
     "data": {
      "text/plain": [
       "1.6"
      ]
     },
     "execution_count": 134,
     "metadata": {},
     "output_type": "execute_result"
    }
   ],
   "source": [
    "myline.slope()"
   ]
  },
  {
   "cell_type": "code",
   "execution_count": 137,
   "id": "17e520c4",
   "metadata": {},
   "outputs": [],
   "source": [
    "#2\n",
    "class Cylinder:\n",
    "    \n",
    "    def __init__(self,height=1,radius=1):\n",
    "        self.height = height\n",
    "        self.radius = radius\n",
    "        \n",
    "    def volume(self):\n",
    "       return self.height * 3.14 * (self.radius)**2   \n",
    "\n",
    "    def surface_area(self):\n",
    "        \n",
    "        top = 3.14 * (self.radius**2)\n",
    "        \n",
    "        return (2*top) + (2*3.14*self.radius*self.height)"
   ]
  },
  {
   "cell_type": "code",
   "execution_count": 141,
   "id": "54c098c5",
   "metadata": {},
   "outputs": [],
   "source": [
    "mycycl = Cylinder(2,3)"
   ]
  },
  {
   "cell_type": "code",
   "execution_count": 139,
   "id": "ee2668b5",
   "metadata": {},
   "outputs": [],
   "source": []
  },
  {
   "cell_type": "code",
   "execution_count": 143,
   "id": "165d19b0",
   "metadata": {},
   "outputs": [
    {
     "data": {
      "text/plain": [
       "56.52"
      ]
     },
     "execution_count": 143,
     "metadata": {},
     "output_type": "execute_result"
    }
   ],
   "source": [
    "mycycl.volume()"
   ]
  },
  {
   "cell_type": "code",
   "execution_count": 144,
   "id": "bb08390f",
   "metadata": {},
   "outputs": [
    {
     "data": {
      "text/plain": [
       "94.2"
      ]
     },
     "execution_count": 144,
     "metadata": {},
     "output_type": "execute_result"
    }
   ],
   "source": [
    "mycycl.surface_area()"
   ]
  },
  {
   "cell_type": "code",
   "execution_count": null,
   "id": "74363db1",
   "metadata": {},
   "outputs": [],
   "source": []
  }
 ],
 "metadata": {
  "kernelspec": {
   "display_name": "Python 3 (ipykernel)",
   "language": "python",
   "name": "python3"
  },
  "language_info": {
   "codemirror_mode": {
    "name": "ipython",
    "version": 3
   },
   "file_extension": ".py",
   "mimetype": "text/x-python",
   "name": "python",
   "nbconvert_exporter": "python",
   "pygments_lexer": "ipython3",
   "version": "3.9.7"
  }
 },
 "nbformat": 4,
 "nbformat_minor": 5
}
