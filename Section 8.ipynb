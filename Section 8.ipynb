{
 "cells": [
  {
   "cell_type": "markdown",
   "id": "139d17a5",
   "metadata": {},
   "source": [
    "# Object Oriented Programming"
   ]
  },
  {
   "cell_type": "code",
   "execution_count": 1,
   "id": "0869404f",
   "metadata": {},
   "outputs": [],
   "source": [
    "#class keyword"
   ]
  },
  {
   "cell_type": "code",
   "execution_count": 82,
   "id": "ee33b86d",
   "metadata": {},
   "outputs": [],
   "source": [
    "class Dog():   #use capital on the words\n",
    "   #__init__ is used when def a method in a class\n",
    "\n",
    "    #CLASS OBJECT ATTRIBUTE\n",
    "    #SAME FOR ANY INSTANCE OF A CLASS\n",
    "    species = 'mammal'\n",
    "    \n",
    "    #add spots behind name if using the self.spots attribute below\n",
    "    def __init__(self,breed,name):        \n",
    "        \n",
    "        #attributes- dont need () after a method\n",
    "        #we take in the argument\n",
    "        #Assign it using self.attribute_name\n",
    "        self.breed = breed\n",
    "        self.name = name\n",
    "        \n",
    "        #Expect boolean True/False\n",
    "        #self.spots = spots- attribute, take out comment to use\n",
    "        \n",
    "        #OPERATIONS/Actions --->Methods- need () when using methods\n",
    "    def bark(self):\n",
    "            print(\"WOOF! My name is {}\".format(self.name))"
   ]
  },
  {
   "cell_type": "code",
   "execution_count": 83,
   "id": "67dd4f7d",
   "metadata": {},
   "outputs": [],
   "source": [
    "#my_dog = Dog(breed = 'lab',name='Sammy',spots=False)--Use this one if you uncomment self.spots above\n",
    "my_dog = Dog('Lab', 'Frankie')"
   ]
  },
  {
   "cell_type": "code",
   "execution_count": 84,
   "id": "c7936551",
   "metadata": {},
   "outputs": [
    {
     "data": {
      "text/plain": [
       "__main__.Dog"
      ]
     },
     "execution_count": 84,
     "metadata": {},
     "output_type": "execute_result"
    }
   ],
   "source": [
    "type(my_dog)"
   ]
  },
  {
   "cell_type": "code",
   "execution_count": 85,
   "id": "af6b2830",
   "metadata": {},
   "outputs": [
    {
     "data": {
      "text/plain": [
       "'mammal'"
      ]
     },
     "execution_count": 85,
     "metadata": {},
     "output_type": "execute_result"
    }
   ],
   "source": [
    "my_dog.species  #if you click on tab after my_dog. it will show you the other attributes you can call"
   ]
  },
  {
   "cell_type": "code",
   "execution_count": 86,
   "id": "a3ce03a9",
   "metadata": {},
   "outputs": [
    {
     "data": {
      "text/plain": [
       "'Frankie'"
      ]
     },
     "execution_count": 86,
     "metadata": {},
     "output_type": "execute_result"
    }
   ],
   "source": [
    "my_dog.name"
   ]
  },
  {
   "cell_type": "code",
   "execution_count": 87,
   "id": "3f46b82a",
   "metadata": {},
   "outputs": [
    {
     "name": "stdout",
     "output_type": "stream",
     "text": [
      "WOOF! My name is Frankie\n"
     ]
    }
   ],
   "source": [
    "my_dog.bark()"
   ]
  },
  {
   "cell_type": "code",
   "execution_count": null,
   "id": "72784d3b",
   "metadata": {},
   "outputs": [],
   "source": []
  }
 ],
 "metadata": {
  "kernelspec": {
   "display_name": "Python 3 (ipykernel)",
   "language": "python",
   "name": "python3"
  },
  "language_info": {
   "codemirror_mode": {
    "name": "ipython",
    "version": 3
   },
   "file_extension": ".py",
   "mimetype": "text/x-python",
   "name": "python",
   "nbconvert_exporter": "python",
   "pygments_lexer": "ipython3",
   "version": "3.9.7"
  }
 },
 "nbformat": 4,
 "nbformat_minor": 5
}
