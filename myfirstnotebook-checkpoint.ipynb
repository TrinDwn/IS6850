{
 "cells": [
  {
   "cell_type": "code",
   "execution_count": 96,
   "id": "29499503",
   "metadata": {},
   "outputs": [
    {
     "name": "stdout",
     "output_type": "stream",
     "text": [
      "hello\n"
     ]
    }
   ],
   "source": [
    "print('hello')"
   ]
  },
  {
   "cell_type": "code",
   "execution_count": 97,
   "id": "7dca87f6",
   "metadata": {},
   "outputs": [
    {
     "name": "stdout",
     "output_type": "stream",
     "text": [
      "new\n"
     ]
    }
   ],
   "source": [
    "print('new')"
   ]
  },
  {
   "cell_type": "markdown",
   "id": "b2fe4829",
   "metadata": {},
   "source": [
    "here you cam write notes"
   ]
  },
  {
   "cell_type": "code",
   "execution_count": 98,
   "id": "da5ef809",
   "metadata": {},
   "outputs": [
    {
     "data": {
      "text/plain": [
       "'hello'"
      ]
     },
     "execution_count": 98,
     "metadata": {},
     "output_type": "execute_result"
    }
   ],
   "source": [
    "\"hello\""
   ]
  },
  {
   "cell_type": "code",
   "execution_count": 99,
   "id": "cd6241a5",
   "metadata": {},
   "outputs": [
    {
     "data": {
      "text/plain": [
       "'world'"
      ]
     },
     "execution_count": 99,
     "metadata": {},
     "output_type": "execute_result"
    }
   ],
   "source": [
    "\"world\""
   ]
  },
  {
   "cell_type": "code",
   "execution_count": 100,
   "id": "412de5ab",
   "metadata": {},
   "outputs": [
    {
     "data": {
      "text/plain": [
       "'this is also a string'"
      ]
     },
     "execution_count": 100,
     "metadata": {},
     "output_type": "execute_result"
    }
   ],
   "source": [
    "'this is also a string'"
   ]
  },
  {
   "cell_type": "code",
   "execution_count": 101,
   "id": "81319b83",
   "metadata": {},
   "outputs": [
    {
     "data": {
      "text/plain": [
       "\"I'm going on a run\""
      ]
     },
     "execution_count": 101,
     "metadata": {},
     "output_type": "execute_result"
    }
   ],
   "source": [
    "\"I'm going on a run\""
   ]
  },
  {
   "cell_type": "code",
   "execution_count": 102,
   "id": "0b05ba82",
   "metadata": {},
   "outputs": [
    {
     "name": "stdout",
     "output_type": "stream",
     "text": [
      "hello\n"
     ]
    }
   ],
   "source": [
    "print('hello')"
   ]
  },
  {
   "cell_type": "markdown",
   "id": "9db07f01",
   "metadata": {},
   "source": [
    "without adding print- only the last line is returned. If you want all of the strings returned, must add print to both."
   ]
  },
  {
   "cell_type": "code",
   "execution_count": 103,
   "id": "1a6427ce",
   "metadata": {},
   "outputs": [
    {
     "data": {
      "text/plain": [
       "'hello world two'"
      ]
     },
     "execution_count": 103,
     "metadata": {},
     "output_type": "execute_result"
    }
   ],
   "source": [
    "\"hello world one\"\n",
    "\"hello world two\""
   ]
  },
  {
   "cell_type": "code",
   "execution_count": 104,
   "id": "b1d5061c",
   "metadata": {},
   "outputs": [
    {
     "name": "stdout",
     "output_type": "stream",
     "text": [
      "hello world one\n",
      "hello world two\n"
     ]
    }
   ],
   "source": [
    "print('hello world one')\n",
    "print('hello world two')"
   ]
  },
  {
   "cell_type": "markdown",
   "id": "05fed44a",
   "metadata": {},
   "source": [
    "By adding \\n, you can print on a new line"
   ]
  },
  {
   "cell_type": "code",
   "execution_count": 105,
   "id": "54f44832",
   "metadata": {},
   "outputs": [
    {
     "name": "stdout",
     "output_type": "stream",
     "text": [
      "hello world\n",
      "hello \n",
      " world\n"
     ]
    }
   ],
   "source": [
    "print('hello world')\n",
    "print('hello \\n world')"
   ]
  },
  {
   "cell_type": "code",
   "execution_count": 106,
   "id": "5a71ed77",
   "metadata": {},
   "outputs": [
    {
     "data": {
      "text/plain": [
       "5"
      ]
     },
     "execution_count": 106,
     "metadata": {},
     "output_type": "execute_result"
    }
   ],
   "source": [
    "len('hello')  ##gets the length of the characters"
   ]
  },
  {
   "cell_type": "code",
   "execution_count": 107,
   "id": "cfd5e483",
   "metadata": {},
   "outputs": [
    {
     "data": {
      "text/plain": [
       "4"
      ]
     },
     "execution_count": 107,
     "metadata": {},
     "output_type": "execute_result"
    }
   ],
   "source": [
    "len('I am')"
   ]
  },
  {
   "cell_type": "code",
   "execution_count": 108,
   "id": "423e9bc9",
   "metadata": {},
   "outputs": [],
   "source": [
    "mystring = 'Hello World'"
   ]
  },
  {
   "cell_type": "code",
   "execution_count": 109,
   "id": "07d629f7",
   "metadata": {},
   "outputs": [
    {
     "data": {
      "text/plain": [
       "'Hello World'"
      ]
     },
     "execution_count": 109,
     "metadata": {},
     "output_type": "execute_result"
    }
   ],
   "source": [
    "mystring"
   ]
  },
  {
   "cell_type": "code",
   "execution_count": 110,
   "id": "1e6ce69f",
   "metadata": {},
   "outputs": [
    {
     "data": {
      "text/plain": [
       "'H'"
      ]
     },
     "execution_count": 110,
     "metadata": {},
     "output_type": "execute_result"
    }
   ],
   "source": [
    "mystring[0]"
   ]
  },
  {
   "cell_type": "code",
   "execution_count": 111,
   "id": "6058d651",
   "metadata": {},
   "outputs": [
    {
     "data": {
      "text/plain": [
       "'r'"
      ]
     },
     "execution_count": 111,
     "metadata": {},
     "output_type": "execute_result"
    }
   ],
   "source": [
    "mystring[8]"
   ]
  },
  {
   "cell_type": "markdown",
   "id": "cd3d1c09",
   "metadata": {},
   "source": [
    "Two ways to return the letter 'l' from the word 'World' in the string 'Hello World'"
   ]
  },
  {
   "cell_type": "code",
   "execution_count": 112,
   "id": "a817278b",
   "metadata": {},
   "outputs": [
    {
     "data": {
      "text/plain": [
       "'l'"
      ]
     },
     "execution_count": 112,
     "metadata": {},
     "output_type": "execute_result"
    }
   ],
   "source": [
    "mystring[9]"
   ]
  },
  {
   "cell_type": "code",
   "execution_count": 113,
   "id": "c8893f37",
   "metadata": {},
   "outputs": [
    {
     "data": {
      "text/plain": [
       "'l'"
      ]
     },
     "execution_count": 113,
     "metadata": {},
     "output_type": "execute_result"
    }
   ],
   "source": [
    "mystring[-2]"
   ]
  },
  {
   "cell_type": "markdown",
   "id": "0a8d87b4",
   "metadata": {},
   "source": [
    "SLICING- if you want to get a range of characters back."
   ]
  },
  {
   "cell_type": "code",
   "execution_count": 114,
   "id": "f7ef893a",
   "metadata": {},
   "outputs": [],
   "source": [
    "mystring='abcdefghijk' ## reassign mystring"
   ]
  },
  {
   "cell_type": "code",
   "execution_count": 115,
   "id": "262b4c83",
   "metadata": {},
   "outputs": [
    {
     "data": {
      "text/plain": [
       "'abcdefghijk'"
      ]
     },
     "execution_count": 115,
     "metadata": {},
     "output_type": "execute_result"
    }
   ],
   "source": [
    "mystring"
   ]
  },
  {
   "cell_type": "code",
   "execution_count": 116,
   "id": "4c5ad903",
   "metadata": {},
   "outputs": [
    {
     "data": {
      "text/plain": [
       "'c'"
      ]
     },
     "execution_count": 116,
     "metadata": {},
     "output_type": "execute_result"
    }
   ],
   "source": [
    "mystring[2]  ## return a single character"
   ]
  },
  {
   "cell_type": "code",
   "execution_count": 117,
   "id": "6081d8c0",
   "metadata": {},
   "outputs": [
    {
     "data": {
      "text/plain": [
       "'cdefghijk'"
      ]
     },
     "execution_count": 117,
     "metadata": {},
     "output_type": "execute_result"
    }
   ],
   "source": [
    "mystring[2:]      ## return a range of characters- "
   ]
  },
  {
   "cell_type": "markdown",
   "id": "8b9abed4",
   "metadata": {},
   "source": [
    "## the ':' indicates that you are requesting a return of an 'up to but not including' the character number indicated. ex: [:3] means to go up to the 3rd postion but dont include it. D is in the 3rd position because and index starts at 0"
   ]
  },
  {
   "cell_type": "code",
   "execution_count": 118,
   "id": "c5e8c045",
   "metadata": {},
   "outputs": [
    {
     "data": {
      "text/plain": [
       "'abc'"
      ]
     },
     "execution_count": 118,
     "metadata": {},
     "output_type": "execute_result"
    }
   ],
   "source": [
    "mystring[:3]   "
   ]
  },
  {
   "cell_type": "markdown",
   "id": "8a693f8b",
   "metadata": {},
   "source": [
    "## this pulls characters starting at the 3 and ending before the 6th character"
   ]
  },
  {
   "cell_type": "code",
   "execution_count": 119,
   "id": "a3a28175",
   "metadata": {},
   "outputs": [
    {
     "data": {
      "text/plain": [
       "'def'"
      ]
     },
     "execution_count": 119,
     "metadata": {},
     "output_type": "execute_result"
    }
   ],
   "source": [
    "mystring[3:6]  "
   ]
  },
  {
   "cell_type": "code",
   "execution_count": 120,
   "id": "f773d8dd",
   "metadata": {},
   "outputs": [
    {
     "data": {
      "text/plain": [
       "'bc'"
      ]
     },
     "execution_count": 120,
     "metadata": {},
     "output_type": "execute_result"
    }
   ],
   "source": [
    "mystring[1:3]"
   ]
  },
  {
   "cell_type": "markdown",
   "id": "dbf44932",
   "metadata": {},
   "source": [
    "## When you include step size, you can indicate how many characters you want to skip."
   ]
  },
  {
   "cell_type": "code",
   "execution_count": 121,
   "id": "a1460db5",
   "metadata": {},
   "outputs": [
    {
     "data": {
      "text/plain": [
       "'acegik'"
      ]
     },
     "execution_count": 121,
     "metadata": {},
     "output_type": "execute_result"
    }
   ],
   "source": [
    "mystring[::2] ## skips 2 characters"
   ]
  },
  {
   "cell_type": "code",
   "execution_count": 122,
   "id": "2eba10b2",
   "metadata": {},
   "outputs": [
    {
     "data": {
      "text/plain": [
       "'ceg'"
      ]
     },
     "execution_count": 122,
     "metadata": {},
     "output_type": "execute_result"
    }
   ],
   "source": [
    "mystring[2:7:2]\n",
    "##start at position 2, end up to 7 skipping \n",
    "##every 2 characters"
   ]
  },
  {
   "cell_type": "markdown",
   "id": "4f502065",
   "metadata": {},
   "source": [
    "To reverse the string [::-1] because it takes a string 'abcdefghijk' and says go from 'a' back to 'kj....'"
   ]
  },
  {
   "cell_type": "code",
   "execution_count": 123,
   "id": "cab9a2f6",
   "metadata": {},
   "outputs": [
    {
     "data": {
      "text/plain": [
       "'kjihgfedcba'"
      ]
     },
     "execution_count": 123,
     "metadata": {},
     "output_type": "execute_result"
    }
   ],
   "source": [
    "mystring[::-1]"
   ]
  },
  {
   "cell_type": "markdown",
   "id": "a3a6650d",
   "metadata": {},
   "source": [
    "## Strings....Immutability"
   ]
  },
  {
   "cell_type": "code",
   "execution_count": 124,
   "id": "d8748ef3",
   "metadata": {},
   "outputs": [],
   "source": [
    "name= \"Sam\""
   ]
  },
  {
   "cell_type": "markdown",
   "id": "f28b50cf",
   "metadata": {},
   "source": [
    "If you wanted to change 'Sam to Pam' you can't change it this way----name[0] = 'P'---- you'll get an error. To change you will use string concatenation. Use slice.  "
   ]
  },
  {
   "cell_type": "code",
   "execution_count": 125,
   "id": "7c4cff87",
   "metadata": {},
   "outputs": [],
   "source": [
    "last_letters = name[1:]"
   ]
  },
  {
   "cell_type": "code",
   "execution_count": 126,
   "id": "8cc077e3",
   "metadata": {},
   "outputs": [
    {
     "data": {
      "text/plain": [
       "'Pam'"
      ]
     },
     "execution_count": 126,
     "metadata": {},
     "output_type": "execute_result"
    }
   ],
   "source": [
    "'P' + last_letters"
   ]
  },
  {
   "cell_type": "code",
   "execution_count": 127,
   "id": "839efa7a",
   "metadata": {},
   "outputs": [],
   "source": [
    "x = 'Hello World'"
   ]
  },
  {
   "cell_type": "code",
   "execution_count": 128,
   "id": "1369f44a",
   "metadata": {},
   "outputs": [],
   "source": [
    "# x + \" it is beautiful outside!\"\n",
    "# make sure there is a space in front of \"it\""
   ]
  },
  {
   "cell_type": "markdown",
   "id": "6929368b",
   "metadata": {},
   "source": [
    "You can redefine X "
   ]
  },
  {
   "cell_type": "code",
   "execution_count": 129,
   "id": "810a3d14",
   "metadata": {},
   "outputs": [],
   "source": [
    "x = x + \" it is beautiful outside!\""
   ]
  },
  {
   "cell_type": "code",
   "execution_count": 130,
   "id": "7c4971ce",
   "metadata": {},
   "outputs": [
    {
     "data": {
      "text/plain": [
       "'Hello World it is beautiful outside!'"
      ]
     },
     "execution_count": 130,
     "metadata": {},
     "output_type": "execute_result"
    }
   ],
   "source": [
    "x"
   ]
  },
  {
   "cell_type": "code",
   "execution_count": 131,
   "id": "f735535b",
   "metadata": {},
   "outputs": [],
   "source": [
    "letter = 'z'"
   ]
  },
  {
   "cell_type": "code",
   "execution_count": 132,
   "id": "ce7ff309",
   "metadata": {},
   "outputs": [
    {
     "data": {
      "text/plain": [
       "'zzzzzzzzzz'"
      ]
     },
     "execution_count": 132,
     "metadata": {},
     "output_type": "execute_result"
    }
   ],
   "source": [
    "letter * 10 # using a multiplication sign with letters"
   ]
  },
  {
   "cell_type": "markdown",
   "id": "26a40328",
   "metadata": {},
   "source": [
    "# Methods"
   ]
  },
  {
   "cell_type": "code",
   "execution_count": 133,
   "id": "7c275bab",
   "metadata": {},
   "outputs": [],
   "source": [
    "X = 'Hello World'"
   ]
  },
  {
   "cell_type": "code",
   "execution_count": 134,
   "id": "355dc97e",
   "metadata": {},
   "outputs": [
    {
     "data": {
      "text/plain": [
       "'HELLO WORLD IT IS BEAUTIFUL OUTSIDE!'"
      ]
     },
     "execution_count": 134,
     "metadata": {},
     "output_type": "execute_result"
    }
   ],
   "source": [
    "x.upper() # type 'x.' then hit tab for a list of methods or functions"
   ]
  },
  {
   "cell_type": "code",
   "execution_count": 135,
   "id": "681da04a",
   "metadata": {},
   "outputs": [
    {
     "data": {
      "text/plain": [
       "'hello world it is beautiful outside!'"
      ]
     },
     "execution_count": 135,
     "metadata": {},
     "output_type": "execute_result"
    }
   ],
   "source": [
    "x.lower()"
   ]
  },
  {
   "cell_type": "code",
   "execution_count": 136,
   "id": "c818c14b",
   "metadata": {},
   "outputs": [
    {
     "data": {
      "text/plain": [
       "['Hello', 'World', 'it', 'is', 'beautiful', 'outside!']"
      ]
     },
     "execution_count": 136,
     "metadata": {},
     "output_type": "execute_result"
    }
   ],
   "source": [
    "x.split() # splits a strings, turns it into a list. "
   ]
  },
  {
   "cell_type": "code",
   "execution_count": 137,
   "id": "4f43b569",
   "metadata": {},
   "outputs": [
    {
     "data": {
      "text/plain": [
       "['Hello World ', 't ', 's beaut', 'ful outs', 'de!']"
      ]
     },
     "execution_count": 137,
     "metadata": {},
     "output_type": "execute_result"
    }
   ],
   "source": [
    "x.split('i')\n",
    "#splits everything on the 'i' and removes 'i'"
   ]
  },
  {
   "cell_type": "code",
   "execution_count": 138,
   "id": "845a8e95",
   "metadata": {},
   "outputs": [
    {
     "name": "stdout",
     "output_type": "stream",
     "text": [
      "hello\n"
     ]
    }
   ],
   "source": [
    "print('hello')"
   ]
  },
  {
   "cell_type": "markdown",
   "id": "35015a7b",
   "metadata": {},
   "source": [
    "# Formatting with the .format() method\n",
    "\n",
    "A good way to format objects into your strings for print statements is with the string.format() method. \n",
    "The syntax is:\n",
    "\n",
    "'String here {} then also {}'.format('something1','something2')\n",
    "\n"
   ]
  },
  {
   "cell_type": "code",
   "execution_count": 139,
   "id": "ce41d7f6",
   "metadata": {},
   "outputs": [
    {
     "name": "stdout",
     "output_type": "stream",
     "text": [
      "This is a string INSERTED\n"
     ]
    }
   ],
   "source": [
    "print('This is a string {}'.format('INSERTED'))"
   ]
  },
  {
   "cell_type": "code",
   "execution_count": 140,
   "id": "c8d7faa5",
   "metadata": {},
   "outputs": [
    {
     "name": "stdout",
     "output_type": "stream",
     "text": [
      "The quick brown fox\n"
     ]
    }
   ],
   "source": [
    "print('The {2} {1} {0}'.format('fox','brown','quick'))\n",
    "# this returns a sentence out of order. \n",
    "#If you want the word quick to be first, then add\n",
    "# 2 in the first curly braces."
   ]
  },
  {
   "cell_type": "code",
   "execution_count": 141,
   "id": "9e324767",
   "metadata": {},
   "outputs": [
    {
     "name": "stdout",
     "output_type": "stream",
     "text": [
      "The quick brown fox\n"
     ]
    }
   ],
   "source": [
    "print('The {q} {b} {f}'.format\n",
    "      (f = 'fox',b = 'brown',q ='quick'))\n",
    "\n"
   ]
  },
  {
   "cell_type": "markdown",
   "id": "7bbd9dae",
   "metadata": {},
   "source": [
    "# Float formatting follows \"{value:width.precision f}\"  \n",
    "allows you to adjust the results"
   ]
  },
  {
   "cell_type": "code",
   "execution_count": 142,
   "id": "3dd7b344",
   "metadata": {},
   "outputs": [],
   "source": [
    "result = 100/777"
   ]
  },
  {
   "cell_type": "code",
   "execution_count": 143,
   "id": "3ec34aae",
   "metadata": {},
   "outputs": [
    {
     "data": {
      "text/plain": [
       "0.1287001287001287"
      ]
     },
     "execution_count": 143,
     "metadata": {},
     "output_type": "execute_result"
    }
   ],
   "source": [
    "result"
   ]
  },
  {
   "cell_type": "code",
   "execution_count": 144,
   "id": "3b0bdf87",
   "metadata": {},
   "outputs": [
    {
     "name": "stdout",
     "output_type": "stream",
     "text": [
      "The result was 0.1287001287001287\n",
      "The result was 0.1287001287001287\n"
     ]
    }
   ],
   "source": [
    "print(\"The result was {}\".format(result))\n",
    "\n",
    "# above is the same as below-\n",
    "#assigning result to a variable and\n",
    "#add the value into the curly braces.\n",
    "\n",
    "print(\"The result was {r}\".format(r=result))"
   ]
  },
  {
   "cell_type": "markdown",
   "id": "b36b35b8",
   "metadata": {},
   "source": [
    "When adding the precision format, you can add which position you want to be rounded.\n",
    "\n",
    "Below we chose the 3rd position to be rounded"
   ]
  },
  {
   "cell_type": "code",
   "execution_count": 145,
   "id": "13ea98c0",
   "metadata": {},
   "outputs": [
    {
     "name": "stdout",
     "output_type": "stream",
     "text": [
      "The result was 0.129\n",
      "The result was      0.129\n"
     ]
    }
   ],
   "source": [
    "print(\"The result was {r:1.3f}\".format(r=result))\n",
    "\n",
    "# you can add white space by change the width number.{value:width.percision f}\n",
    "\n",
    "print(\"The result was {r:10.3f}\".format(r=result))"
   ]
  },
  {
   "cell_type": "code",
   "execution_count": null,
   "id": "2650ab78",
   "metadata": {},
   "outputs": [],
   "source": []
  },
  {
   "cell_type": "markdown",
   "id": "9272d548",
   "metadata": {},
   "source": [
    "F strings are similar to other langauages and are comparable to  the  .format method"
   ]
  },
  {
   "cell_type": "code",
   "execution_count": 146,
   "id": "7b3c3dd8",
   "metadata": {},
   "outputs": [],
   "source": [
    "name = 'Jose'"
   ]
  },
  {
   "cell_type": "code",
   "execution_count": 147,
   "id": "54ec8c6d",
   "metadata": {},
   "outputs": [
    {
     "name": "stdout",
     "output_type": "stream",
     "text": [
      "Hello, his name is Jose\n"
     ]
    }
   ],
   "source": [
    "print(f'Hello, his name is {name}')"
   ]
  },
  {
   "cell_type": "code",
   "execution_count": 148,
   "id": "77021f4b",
   "metadata": {},
   "outputs": [],
   "source": [
    "name = \"Sam\"\n",
    "age = 3"
   ]
  },
  {
   "cell_type": "code",
   "execution_count": 149,
   "id": "c4fd636a",
   "metadata": {},
   "outputs": [
    {
     "name": "stdout",
     "output_type": "stream",
     "text": [
      "Sam is 3 years old.\n"
     ]
    }
   ],
   "source": [
    "print(f'{name} is {age} years old.')"
   ]
  },
  {
   "cell_type": "markdown",
   "id": "117fe801",
   "metadata": {},
   "source": [
    "# Lists"
   ]
  },
  {
   "cell_type": "code",
   "execution_count": 150,
   "id": "85264bb0",
   "metadata": {},
   "outputs": [],
   "source": [
    "my_list = [1,2,3]"
   ]
  },
  {
   "cell_type": "code",
   "execution_count": 151,
   "id": "757329e9",
   "metadata": {},
   "outputs": [],
   "source": [
    "my_list = ['STRING', 100,23.2]"
   ]
  },
  {
   "cell_type": "code",
   "execution_count": 152,
   "id": "77d18885",
   "metadata": {},
   "outputs": [
    {
     "data": {
      "text/plain": [
       "3"
      ]
     },
     "execution_count": 152,
     "metadata": {},
     "output_type": "execute_result"
    }
   ],
   "source": [
    "len(my_list)"
   ]
  },
  {
   "cell_type": "code",
   "execution_count": 153,
   "id": "ee3d57f7",
   "metadata": {},
   "outputs": [],
   "source": [
    "mylist = ['one', 'two', 'three']"
   ]
  },
  {
   "cell_type": "code",
   "execution_count": 154,
   "id": "5f28969a",
   "metadata": {},
   "outputs": [
    {
     "data": {
      "text/plain": [
       "'one'"
      ]
     },
     "execution_count": 154,
     "metadata": {},
     "output_type": "execute_result"
    }
   ],
   "source": [
    "mylist[0]"
   ]
  },
  {
   "cell_type": "code",
   "execution_count": 155,
   "id": "e68dabbf",
   "metadata": {},
   "outputs": [
    {
     "data": {
      "text/plain": [
       "['two', 'three']"
      ]
     },
     "execution_count": 155,
     "metadata": {},
     "output_type": "execute_result"
    }
   ],
   "source": [
    "mylist[1:]"
   ]
  },
  {
   "cell_type": "code",
   "execution_count": 157,
   "id": "f29f0576",
   "metadata": {},
   "outputs": [],
   "source": [
    "another_list = ['four','five']"
   ]
  },
  {
   "cell_type": "code",
   "execution_count": 158,
   "id": "9371d0c3",
   "metadata": {},
   "outputs": [
    {
     "data": {
      "text/plain": [
       "['one', 'two', 'three', 'four', 'five']"
      ]
     },
     "execution_count": 158,
     "metadata": {},
     "output_type": "execute_result"
    }
   ],
   "source": [
    "mylist + another_list"
   ]
  },
  {
   "cell_type": "markdown",
   "id": "669cb572",
   "metadata": {},
   "source": [
    "If you want to save this list you must assign it."
   ]
  },
  {
   "cell_type": "code",
   "execution_count": 161,
   "id": "161a34f4",
   "metadata": {},
   "outputs": [],
   "source": [
    "new_list = mylist + another_list  #assigns"
   ]
  },
  {
   "cell_type": "code",
   "execution_count": 162,
   "id": "5ed8fbec",
   "metadata": {},
   "outputs": [
    {
     "data": {
      "text/plain": [
       "['one', 'two', 'three', 'four', 'five']"
      ]
     },
     "execution_count": 162,
     "metadata": {},
     "output_type": "execute_result"
    }
   ],
   "source": [
    "new_list  #calls the new list"
   ]
  },
  {
   "cell_type": "code",
   "execution_count": 163,
   "id": "becdc447",
   "metadata": {},
   "outputs": [],
   "source": [
    "new_list[0] = 'ONE ALL CAPS' #Changing caps in position 0"
   ]
  },
  {
   "cell_type": "code",
   "execution_count": 164,
   "id": "489ca822",
   "metadata": {},
   "outputs": [
    {
     "data": {
      "text/plain": [
       "['ONE ALL CAPS', 'two', 'three', 'four', 'five']"
      ]
     },
     "execution_count": 164,
     "metadata": {},
     "output_type": "execute_result"
    }
   ],
   "source": [
    "new_list  #shows change"
   ]
  },
  {
   "cell_type": "code",
   "execution_count": null,
   "id": "da6c73b0",
   "metadata": {},
   "outputs": [],
   "source": []
  }
 ],
 "metadata": {
  "kernelspec": {
   "display_name": "Python 3 (ipykernel)",
   "language": "python",
   "name": "python3"
  },
  "language_info": {
   "codemirror_mode": {
    "name": "ipython",
    "version": 3
   },
   "file_extension": ".py",
   "mimetype": "text/x-python",
   "name": "python",
   "nbconvert_exporter": "python",
   "pygments_lexer": "ipython3",
   "version": "3.9.7"
  }
 },
 "nbformat": 4,
 "nbformat_minor": 5
}
