{
 "cells": [
  {
   "cell_type": "code",
   "execution_count": 2,
   "id": "38c0a494",
   "metadata": {},
   "outputs": [],
   "source": [
    "mylist = [1,2,3]"
   ]
  },
  {
   "cell_type": "code",
   "execution_count": 3,
   "id": "89ab16ca",
   "metadata": {},
   "outputs": [],
   "source": [
    "mylist.append(4) #adds to a list"
   ]
  },
  {
   "cell_type": "code",
   "execution_count": 4,
   "id": "aa76fb48",
   "metadata": {},
   "outputs": [
    {
     "data": {
      "text/plain": [
       "[1, 2, 3, 4]"
      ]
     },
     "execution_count": 4,
     "metadata": {},
     "output_type": "execute_result"
    }
   ],
   "source": [
    "mylist"
   ]
  },
  {
   "cell_type": "code",
   "execution_count": 5,
   "id": "21b604e1",
   "metadata": {},
   "outputs": [
    {
     "data": {
      "text/plain": [
       "4"
      ]
     },
     "execution_count": 5,
     "metadata": {},
     "output_type": "execute_result"
    }
   ],
   "source": [
    "mylist.pop() #removes from a list"
   ]
  },
  {
   "cell_type": "code",
   "execution_count": 6,
   "id": "3aaf7629",
   "metadata": {},
   "outputs": [
    {
     "data": {
      "text/plain": [
       "[1, 2, 3]"
      ]
     },
     "execution_count": 6,
     "metadata": {},
     "output_type": "execute_result"
    }
   ],
   "source": [
    "mylist"
   ]
  },
  {
   "cell_type": "code",
   "execution_count": 7,
   "id": "096abc8a",
   "metadata": {},
   "outputs": [
    {
     "name": "stdout",
     "output_type": "stream",
     "text": [
      "Help on built-in function insert:\n",
      "\n",
      "insert(index, object, /) method of builtins.list instance\n",
      "    Insert object before index.\n",
      "\n"
     ]
    }
   ],
   "source": [
    "help(mylist.insert)     #use shift/tab in notebook to get the syntax"
   ]
  },
  {
   "cell_type": "markdown",
   "id": "da12a346",
   "metadata": {},
   "source": [
    "# Creating a function"
   ]
  },
  {
   "cell_type": "code",
   "execution_count": 8,
   "id": "dae2f340",
   "metadata": {},
   "outputs": [],
   "source": [
    "def say_hello():    #def defines function and say_hello is the name you chose for the function\n",
    "    print('hello')"
   ]
  },
  {
   "cell_type": "code",
   "execution_count": 9,
   "id": "f7f3decd",
   "metadata": {},
   "outputs": [
    {
     "name": "stdout",
     "output_type": "stream",
     "text": [
      "hello\n"
     ]
    }
   ],
   "source": [
    "say_hello()"
   ]
  },
  {
   "cell_type": "code",
   "execution_count": 10,
   "id": "902f45f6",
   "metadata": {},
   "outputs": [],
   "source": [
    "def say_hello(name):\n",
    "    print(f'Hello {name}')"
   ]
  },
  {
   "cell_type": "code",
   "execution_count": 11,
   "id": "9ffee887",
   "metadata": {},
   "outputs": [
    {
     "name": "stdout",
     "output_type": "stream",
     "text": [
      "Hello Jose\n"
     ]
    }
   ],
   "source": [
    "say_hello('Jose')"
   ]
  },
  {
   "cell_type": "code",
   "execution_count": 12,
   "id": "63133edf",
   "metadata": {},
   "outputs": [],
   "source": [
    "def add_num(num1,num2):\n",
    "    return num1+num2"
   ]
  },
  {
   "cell_type": "code",
   "execution_count": 14,
   "id": "89b0e165",
   "metadata": {},
   "outputs": [],
   "source": [
    "result = add_num(10,20)"
   ]
  },
  {
   "cell_type": "code",
   "execution_count": 15,
   "id": "a48522fb",
   "metadata": {},
   "outputs": [
    {
     "data": {
      "text/plain": [
       "30"
      ]
     },
     "execution_count": 15,
     "metadata": {},
     "output_type": "execute_result"
    }
   ],
   "source": [
    "result"
   ]
  },
  {
   "cell_type": "code",
   "execution_count": 16,
   "id": "9be93529",
   "metadata": {},
   "outputs": [
    {
     "data": {
      "text/plain": [
       "0"
      ]
     },
     "execution_count": 16,
     "metadata": {},
     "output_type": "execute_result"
    }
   ],
   "source": [
    "#MOD operator\n",
    "2 % 2  #2/2=1 with a remainder of 0"
   ]
  },
  {
   "cell_type": "code",
   "execution_count": 17,
   "id": "b2d41894",
   "metadata": {},
   "outputs": [
    {
     "data": {
      "text/plain": [
       "1"
      ]
     },
     "execution_count": 17,
     "metadata": {},
     "output_type": "execute_result"
    }
   ],
   "source": [
    "3 % 2"
   ]
  },
  {
   "cell_type": "code",
   "execution_count": 18,
   "id": "d0ebe438",
   "metadata": {},
   "outputs": [
    {
     "data": {
      "text/plain": [
       "1"
      ]
     },
     "execution_count": 18,
     "metadata": {},
     "output_type": "execute_result"
    }
   ],
   "source": [
    "41 % 40"
   ]
  },
  {
   "cell_type": "code",
   "execution_count": 20,
   "id": "9b638b6a",
   "metadata": {},
   "outputs": [
    {
     "data": {
      "text/plain": [
       "True"
      ]
     },
     "execution_count": 20,
     "metadata": {},
     "output_type": "execute_result"
    }
   ],
   "source": [
    "#to check if a number is even, use % 2. If 0 then then the number is even\n",
    "\n",
    "20 % 2 == 0\n"
   ]
  },
  {
   "cell_type": "code",
   "execution_count": 21,
   "id": "35e459d1",
   "metadata": {},
   "outputs": [
    {
     "data": {
      "text/plain": [
       "False"
      ]
     },
     "execution_count": 21,
     "metadata": {},
     "output_type": "execute_result"
    }
   ],
   "source": [
    "21 % 2 ==0"
   ]
  },
  {
   "cell_type": "code",
   "execution_count": 25,
   "id": "00ae210b",
   "metadata": {},
   "outputs": [],
   "source": [
    "#creating a function with MOD \n",
    "def even_check(number):\n",
    "    return number % 2 ==0 \n",
    "    "
   ]
  },
  {
   "cell_type": "code",
   "execution_count": 26,
   "id": "665975e6",
   "metadata": {},
   "outputs": [
    {
     "data": {
      "text/plain": [
       "True"
      ]
     },
     "execution_count": 26,
     "metadata": {},
     "output_type": "execute_result"
    }
   ],
   "source": [
    "even_check(20)"
   ]
  },
  {
   "cell_type": "code",
   "execution_count": 27,
   "id": "bd16777e",
   "metadata": {},
   "outputs": [
    {
     "data": {
      "text/plain": [
       "False"
      ]
     },
     "execution_count": 27,
     "metadata": {},
     "output_type": "execute_result"
    }
   ],
   "source": [
    "even_check(21)"
   ]
  },
  {
   "cell_type": "code",
   "execution_count": 28,
   "id": "93620687",
   "metadata": {},
   "outputs": [],
   "source": [
    "#return true if ANY number is even inside a list"
   ]
  },
  {
   "cell_type": "code",
   "execution_count": 29,
   "id": "b79b1fdb",
   "metadata": {},
   "outputs": [],
   "source": [
    "def check_even_list(num_list):\n",
    "    \n",
    "    for number in num_list:\n",
    "        if number % 2 == 0:\n",
    "            return True\n",
    "        else:\n",
    "            pass"
   ]
  },
  {
   "cell_type": "code",
   "execution_count": 30,
   "id": "8074004d",
   "metadata": {},
   "outputs": [],
   "source": [
    "check_even_list([1,3,5])"
   ]
  },
  {
   "cell_type": "code",
   "execution_count": 31,
   "id": "8cf05d2c",
   "metadata": {},
   "outputs": [
    {
     "data": {
      "text/plain": [
       "True"
      ]
     },
     "execution_count": 31,
     "metadata": {},
     "output_type": "execute_result"
    }
   ],
   "source": [
    "check_even_list([2,4,5])"
   ]
  },
  {
   "cell_type": "code",
   "execution_count": 32,
   "id": "7a1bb257",
   "metadata": {},
   "outputs": [
    {
     "data": {
      "text/plain": [
       "True"
      ]
     },
     "execution_count": 32,
     "metadata": {},
     "output_type": "execute_result"
    }
   ],
   "source": [
    "check_even_list([2,1,1,1])"
   ]
  },
  {
   "cell_type": "code",
   "execution_count": 33,
   "id": "af0ab6e9",
   "metadata": {},
   "outputs": [
    {
     "data": {
      "text/plain": [
       "True"
      ]
     },
     "execution_count": 33,
     "metadata": {},
     "output_type": "execute_result"
    }
   ],
   "source": [
    "check_even_list([1,1,1,2])"
   ]
  },
  {
   "cell_type": "markdown",
   "id": "efbc400b",
   "metadata": {},
   "source": [
    "# Functions and tuple unpacking"
   ]
  },
  {
   "cell_type": "code",
   "execution_count": 1,
   "id": "e3228df4",
   "metadata": {},
   "outputs": [],
   "source": [
    "stock_prices = [('Appl', 200), ('GOOG',400),('MSFT',100)]"
   ]
  },
  {
   "cell_type": "code",
   "execution_count": 2,
   "id": "046af629",
   "metadata": {},
   "outputs": [
    {
     "name": "stdout",
     "output_type": "stream",
     "text": [
      "('Appl', 200)\n",
      "('GOOG', 400)\n",
      "('MSFT', 100)\n"
     ]
    }
   ],
   "source": [
    "for item in stock_prices:\n",
    "    print(item)"
   ]
  },
  {
   "cell_type": "code",
   "execution_count": 4,
   "id": "d91192ab",
   "metadata": {},
   "outputs": [
    {
     "name": "stdout",
     "output_type": "stream",
     "text": [
      "Appl\n",
      "GOOG\n",
      "MSFT\n"
     ]
    }
   ],
   "source": [
    "for key,value in stock_prices:  #you can name key,value whatever you want. This unpacks the tuple so you can grab what you want from a tuple\n",
    "    print(key)"
   ]
  },
  {
   "cell_type": "code",
   "execution_count": 6,
   "id": "c307b7e1",
   "metadata": {},
   "outputs": [
    {
     "name": "stdout",
     "output_type": "stream",
     "text": [
      "220.0\n",
      "440.0\n",
      "110.0\n"
     ]
    }
   ],
   "source": [
    "for key,value in stock_prices:\n",
    "    print(value+(0.1*value))  #will return what a 10% increase would look like to the value"
   ]
  },
  {
   "cell_type": "markdown",
   "id": "972a8bdd",
   "metadata": {},
   "source": [
    "# CAN UNPACK A TUPLE LIKE ABOVE, WITH A FUNCTION SO YOU CAN JUST CALL THE FUNCTION INSTEAD OF WRITING THE FORLOOP ALL THE TIME"
   ]
  },
  {
   "cell_type": "code",
   "execution_count": 11,
   "id": "f49d9ff6",
   "metadata": {},
   "outputs": [],
   "source": [
    "#employees hours\n",
    "work_hours = [('Abby',100),('Billy',400),('Cassie',800)]"
   ]
  },
  {
   "cell_type": "code",
   "execution_count": 17,
   "id": "286af0bf",
   "metadata": {},
   "outputs": [],
   "source": [
    "#want to see who is the employee of the year- employee that worked the most hours\n",
    "#creating a function to check work hours\n",
    "def employee_check(work_hours):\n",
    "    \n",
    "    current_max = 0  #will start with 0 then compare to employee work hours and if it is more it will reset 0 to the current work hours.\n",
    "    employee_of_month = '' \n",
    "    \n",
    "    for employee,hours in work_hours:  #check work_hours and if the hours is more than the set current_hours which is zero then it returns the employee\n",
    "        if hours > current_max:\n",
    "            current_max = hours\n",
    "            employee_of_month = employee\n",
    "        else:\n",
    "            pass\n",
    "#the for loop will iterate through the work_hours comparing the current_max to each employee and returning the employee name if their hours are greater than the current_max\n",
    "    #Return\n",
    "    return (employee_of_month,current_max)"
   ]
  },
  {
   "cell_type": "code",
   "execution_count": 18,
   "id": "fbd30a31",
   "metadata": {},
   "outputs": [
    {
     "data": {
      "text/plain": [
       "('Cassie', 800)"
      ]
     },
     "execution_count": 18,
     "metadata": {},
     "output_type": "execute_result"
    }
   ],
   "source": [
    "employee_check(work_hours)"
   ]
  },
  {
   "cell_type": "markdown",
   "id": "5fca08f6",
   "metadata": {},
   "source": [
    "# Interactions between functions"
   ]
  },
  {
   "cell_type": "code",
   "execution_count": 20,
   "id": "313af085",
   "metadata": {},
   "outputs": [],
   "source": [
    "#how to shuffle a list\n",
    "example = [1,2,3,4,5,6,7]"
   ]
  },
  {
   "cell_type": "code",
   "execution_count": 21,
   "id": "734a9d9b",
   "metadata": {},
   "outputs": [],
   "source": [
    "from random import shuffle"
   ]
  },
  {
   "cell_type": "code",
   "execution_count": 22,
   "id": "711dbbec",
   "metadata": {},
   "outputs": [],
   "source": [
    "shuffle(example) # cant save the results so need to create a function"
   ]
  },
  {
   "cell_type": "code",
   "execution_count": 23,
   "id": "bceb64ee",
   "metadata": {},
   "outputs": [
    {
     "data": {
      "text/plain": [
       "[3, 5, 6, 7, 1, 4, 2]"
      ]
     },
     "execution_count": 23,
     "metadata": {},
     "output_type": "execute_result"
    }
   ],
   "source": [
    "example "
   ]
  },
  {
   "cell_type": "code",
   "execution_count": 25,
   "id": "e429e7a7",
   "metadata": {},
   "outputs": [],
   "source": [
    "#Creating a game\n",
    "\n",
    "def shuffle_list(mylist):\n",
    "    shuffle(mylist)\n",
    "    return mylist"
   ]
  },
  {
   "cell_type": "code",
   "execution_count": 32,
   "id": "89e9a699",
   "metadata": {},
   "outputs": [],
   "source": [
    "result = shuffle_list(example)"
   ]
  },
  {
   "cell_type": "code",
   "execution_count": 33,
   "id": "08659f5d",
   "metadata": {},
   "outputs": [
    {
     "data": {
      "text/plain": [
       "[2, 3, 5, 4, 1, 7, 6]"
      ]
     },
     "execution_count": 33,
     "metadata": {},
     "output_type": "execute_result"
    }
   ],
   "source": [
    "result"
   ]
  },
  {
   "cell_type": "code",
   "execution_count": 34,
   "id": "d6fed95a",
   "metadata": {},
   "outputs": [],
   "source": [
    "mylist = ['','O','']  #creating a list that will shuffle so the user will try to guess which position the 'O' is in. Think of shuffling 3 cups with a ball underneath one\n"
   ]
  },
  {
   "cell_type": "code",
   "execution_count": 36,
   "id": "ce53bb68",
   "metadata": {},
   "outputs": [
    {
     "data": {
      "text/plain": [
       "['O', '', '']"
      ]
     },
     "execution_count": 36,
     "metadata": {},
     "output_type": "execute_result"
    }
   ],
   "source": [
    "shuffle_list(mylist)  #shuffle_list was the function you created above"
   ]
  },
  {
   "cell_type": "code",
   "execution_count": 37,
   "id": "f2c6e242",
   "metadata": {},
   "outputs": [],
   "source": [
    "#need to create a function that takes in a players guess\n",
    "\n",
    "def player_guess():\n",
    "    \n",
    "    guess=''    #a player can choose 1 of 3 index positions\n",
    "    \n",
    "    while guess not in ['0','1','2']:  #this is written as a string because input always returns a string, then when you return at the bottom of the function you will change it to int.\n",
    "        guess = input(\"Pick a number: 0,1, or 2\")\n",
    "        \n",
    "    return int(guess)"
   ]
  },
  {
   "cell_type": "code",
   "execution_count": 40,
   "id": "344136dd",
   "metadata": {},
   "outputs": [
    {
     "name": "stdout",
     "output_type": "stream",
     "text": [
      "Pick a number: 0,1, or 20\n"
     ]
    },
    {
     "data": {
      "text/plain": [
       "0"
      ]
     },
     "execution_count": 40,
     "metadata": {},
     "output_type": "execute_result"
    }
   ],
   "source": [
    "player_guess()"
   ]
  },
  {
   "cell_type": "code",
   "execution_count": 41,
   "id": "cf39c928",
   "metadata": {},
   "outputs": [
    {
     "name": "stdout",
     "output_type": "stream",
     "text": [
      "Pick a number: 0,1, or 21\n"
     ]
    }
   ],
   "source": [
    "myindex = player_guess()"
   ]
  },
  {
   "cell_type": "code",
   "execution_count": 42,
   "id": "368df94f",
   "metadata": {},
   "outputs": [
    {
     "data": {
      "text/plain": [
       "1"
      ]
     },
     "execution_count": 42,
     "metadata": {},
     "output_type": "execute_result"
    }
   ],
   "source": [
    "myindex"
   ]
  },
  {
   "cell_type": "code",
   "execution_count": 43,
   "id": "8071db72",
   "metadata": {},
   "outputs": [],
   "source": [
    "#write a function to check if the guess was correct\n",
    "def check_guess(mylist,guess):\n",
    "    if mylist[guess] == 'O':\n",
    "        print(\"Correct!\")\n",
    "    else:\n",
    "        print(\"Wrong guess!\")\n",
    "        print(mylist)"
   ]
  },
  {
   "cell_type": "code",
   "execution_count": 47,
   "id": "8b451a25",
   "metadata": {},
   "outputs": [
    {
     "name": "stdout",
     "output_type": "stream",
     "text": [
      "Pick a number: 0,1, or 20\n",
      "Wrong guess!\n",
      "['', 'O', '']\n"
     ]
    }
   ],
   "source": [
    " #INITAL LIST\n",
    "mylist = ['','O','']\n",
    "\n",
    "#SHUFFLE LIST\n",
    "mixedup_list = shuffle_list(mylist)\n",
    "\n",
    "#USER GUESS\n",
    "guess = player_guess()\n",
    "\n",
    "#CHECK GUESS\n",
    "check_guess(mixedup_list,guess)"
   ]
  },
  {
   "cell_type": "markdown",
   "id": "9f5e9a9e",
   "metadata": {},
   "source": [
    "# *args and **kwargs"
   ]
  },
  {
   "cell_type": "code",
   "execution_count": 50,
   "id": "0c3ec216",
   "metadata": {},
   "outputs": [],
   "source": [
    "def myfunc(a,b,c=0,d=0,e=0):\n",
    "    #returns 5% of the sum of a and b\n",
    "    return sum((a,b,c,d,e)) * 0.05"
   ]
  },
  {
   "cell_type": "code",
   "execution_count": 51,
   "id": "e3a27953",
   "metadata": {},
   "outputs": [
    {
     "data": {
      "text/plain": [
       "15.15"
      ]
     },
     "execution_count": 51,
     "metadata": {},
     "output_type": "execute_result"
    }
   ],
   "source": [
    "myfunc(40,60,100,100,3) # can only put 5 numbers in because the function only gives you 5 arguments."
   ]
  },
  {
   "cell_type": "code",
   "execution_count": 58,
   "id": "d56cadc4",
   "metadata": {},
   "outputs": [],
   "source": [
    "# this is when you'd use *args to pass many numbers within it. Can us other keywords as long as the * is present  \n",
    "\n",
    "def myfunc(*args):\n",
    "    for item in args:\n",
    "        print(item)"
   ]
  },
  {
   "cell_type": "code",
   "execution_count": 59,
   "id": "261ac878",
   "metadata": {},
   "outputs": [
    {
     "name": "stdout",
     "output_type": "stream",
     "text": [
      "40\n",
      "60\n",
      "100\n",
      "1\n",
      "34\n"
     ]
    }
   ],
   "source": [
    "myfunc(40,60,100,1,34)"
   ]
  },
  {
   "cell_type": "code",
   "execution_count": 64,
   "id": "aedb4b9a",
   "metadata": {},
   "outputs": [],
   "source": [
    "def myfunc(**kwargs):  # as long as the ** is present you can use whatever keyword except kwargs is the best practice\n",
    "    print(kwargs) # this will allow you to call for example veggie = 'lettuce' and not through and error\n",
    "    if 'fruit' in kwargs:\n",
    "        print('My fruit of choice is {}'.format(kwargs['fruit']))\n",
    "    else:\n",
    "        print('I did not find any fruit here'"
   ]
  },
  {
   "cell_type": "code",
   "execution_count": 65,
   "id": "ce8caf96",
   "metadata": {},
   "outputs": [
    {
     "name": "stdout",
     "output_type": "stream",
     "text": [
      "{'fruit': 'apple', 'veggie': 'lettuce'}\n",
      "My fruit of choice is apple\n"
     ]
    }
   ],
   "source": [
    "myfunc(fruit='apple',veggie = 'lettuce')"
   ]
  },
  {
   "cell_type": "code",
   "execution_count": 72,
   "id": "91d0eaae",
   "metadata": {},
   "outputs": [],
   "source": [
    "def myfunc(*args, **kwargs):\n",
    "    print(args)\n",
    "    print(kwargs)\n",
    "    \n",
    "    print('I would like {} {}'.format(args[0],kwargs['food']))"
   ]
  },
  {
   "cell_type": "code",
   "execution_count": 73,
   "id": "1394a00a",
   "metadata": {},
   "outputs": [
    {
     "name": "stdout",
     "output_type": "stream",
     "text": [
      "(10, 20, 30)\n",
      "{'fruit': 'orange', 'food': 'eggs', 'animal': 'dog'}\n",
      "I would like 10 eggs\n"
     ]
    }
   ],
   "source": [
    "myfunc(10,20,30,fruit='orange',food='eggs',animal='dog')"
   ]
  },
  {
   "cell_type": "markdown",
   "id": "f3bf2eb9",
   "metadata": {},
   "source": [
    "OLD MACDONALD: Write a function that capitalizes the first and fourth letters of a name\n",
    "old_macdonald('macdonald')  ---> MacDonald"
   ]
  },
  {
   "cell_type": "code",
   "execution_count": 77,
   "id": "99e68043",
   "metadata": {},
   "outputs": [],
   "source": [
    "# solving using .upper\n",
    "def old_macdonald(name):\n",
    "    \n",
    "    \n",
    "    first_letter = name[0]\n",
    "    inbetween = name[1:3]\n",
    "    fourth_letter = name[3]\n",
    "    rest = name[4:]\n",
    "    \n",
    "    return first_letter.upper() + inbetween + fourth_letter.upper() + rest\n",
    "    "
   ]
  },
  {
   "cell_type": "code",
   "execution_count": 78,
   "id": "2f16c134",
   "metadata": {},
   "outputs": [
    {
     "data": {
      "text/plain": [
       "'MacDonald'"
      ]
     },
     "execution_count": 78,
     "metadata": {},
     "output_type": "execute_result"
    }
   ],
   "source": [
    "old_macdonald('macdonald')"
   ]
  },
  {
   "cell_type": "markdown",
   "id": "5772bb8b",
   "metadata": {},
   "source": [
    "## using .capitalize instead of .upper\n",
    "\n",
    "This function breaks macdonald into two strings and capitalizes both. \n",
    "\n",
    "\n",
    "def old_macdonald(name):\n",
    "     \n",
    "    first_half= name[:3]\n",
    "    second_half = name[3:]\n",
    "    \n",
    "    return first_half.capitalize() +  second_half.capitalize()\n",
    "    \n",
    "   "
   ]
  },
  {
   "cell_type": "markdown",
   "id": "c6f5a054",
   "metadata": {},
   "source": [
    "# MASTER YODA \n",
    "Given a sentence, return a sentence with the words reversed"
   ]
  },
  {
   "cell_type": "code",
   "execution_count": 81,
   "id": "54dd7286",
   "metadata": {},
   "outputs": [],
   "source": [
    "def master_yoda(text):\n",
    "   wordlist = text.split()\n",
    "   reverse_word_list = wordlist[::-1]\n",
    "   return reverse_word_list"
   ]
  },
  {
   "cell_type": "code",
   "execution_count": 82,
   "id": "3a621c44",
   "metadata": {},
   "outputs": [
    {
     "data": {
      "text/plain": [
       "['home', 'am', 'I']"
      ]
     },
     "execution_count": 82,
     "metadata": {},
     "output_type": "execute_result"
    }
   ],
   "source": [
    "master_yoda('I am home')"
   ]
  },
  {
   "cell_type": "markdown",
   "id": "eab80a86",
   "metadata": {},
   "source": [
    "# ALMOST THERE\n",
    "Given an interger n , return True if n is within 10 of either 100 or 200\n",
    "\n",
    "almost_there(90) ---> True\n",
    "almost_there(104) ---> True\n",
    "almost_there(150) ---> False\n",
    "almost_there(209) ---> True\n",
    "\n",
    "NOTE: abs(num) returns the absolute value of a number"
   ]
  },
  {
   "cell_type": "code",
   "execution_count": 83,
   "id": "9490a089",
   "metadata": {},
   "outputs": [],
   "source": [
    "def almost_there(n):\n",
    "    \n",
    "   return (abs(100 - n) <= 10) or (abs(200-n) <=10)"
   ]
  },
  {
   "cell_type": "code",
   "execution_count": 85,
   "id": "619e3eab",
   "metadata": {},
   "outputs": [
    {
     "data": {
      "text/plain": [
       "True"
      ]
     },
     "execution_count": 85,
     "metadata": {},
     "output_type": "execute_result"
    }
   ],
   "source": [
    "almost_there(90)"
   ]
  },
  {
   "cell_type": "code",
   "execution_count": 86,
   "id": "52ff2d3e",
   "metadata": {},
   "outputs": [
    {
     "data": {
      "text/plain": [
       "True"
      ]
     },
     "execution_count": 86,
     "metadata": {},
     "output_type": "execute_result"
    }
   ],
   "source": [
    "almost_there(90)"
   ]
  },
  {
   "cell_type": "code",
   "execution_count": 87,
   "id": "eb53ce1c",
   "metadata": {},
   "outputs": [
    {
     "data": {
      "text/plain": [
       "False"
      ]
     },
     "execution_count": 87,
     "metadata": {},
     "output_type": "execute_result"
    }
   ],
   "source": [
    "almost_there(150)"
   ]
  },
  {
   "cell_type": "markdown",
   "id": "9b5a8e8c",
   "metadata": {},
   "source": [
    "# Lambda Expressions\n",
    "\n",
    "Map and Filter"
   ]
  },
  {
   "cell_type": "code",
   "execution_count": 88,
   "id": "c6a58ee9",
   "metadata": {},
   "outputs": [],
   "source": [
    "#SIMPLE FUNCTION THAT TAKES IN A NUMBER AND RETURNS THE SQUARE\n",
    "def square(num):    \n",
    "    return num**2"
   ]
  },
  {
   "cell_type": "code",
   "execution_count": 89,
   "id": "99c875e1",
   "metadata": {},
   "outputs": [],
   "source": [
    "my_nums = [1,2,3,4,5]"
   ]
  },
  {
   "cell_type": "code",
   "execution_count": 91,
   "id": "f9bc3e27",
   "metadata": {},
   "outputs": [
    {
     "name": "stdout",
     "output_type": "stream",
     "text": [
      "1\n",
      "4\n",
      "9\n",
      "16\n",
      "25\n"
     ]
    }
   ],
   "source": [
    "#MAP WILL TAKE THE FUNCTION ENTERED (SQUARE) AND APPLY IT TO EACH NUMBER IN THE LIST ENTERED (MY_NUMS)\n",
    "for item in map(square,my_nums):\n",
    "    print(item)"
   ]
  },
  {
   "cell_type": "code",
   "execution_count": 92,
   "id": "5aaa67d9",
   "metadata": {},
   "outputs": [
    {
     "data": {
      "text/plain": [
       "[1, 4, 9, 16, 25]"
      ]
     },
     "execution_count": 92,
     "metadata": {},
     "output_type": "execute_result"
    }
   ],
   "source": [
    "#THIS RETURNS THE RESULT IN A LIST\n",
    "\n",
    "list(map(square,my_nums))"
   ]
  },
  {
   "cell_type": "code",
   "execution_count": 96,
   "id": "5f209001",
   "metadata": {},
   "outputs": [],
   "source": [
    "#RETURN 'EVEN' IF THE NAME IN NAMES[] HAS EVEN NUMBER OF LETTERS.\n",
    "#IF THE NAME HAS AN ODD NUMBER OF LETTERS, THEN IT RETURNS JUST THE FIRST LETTER\n",
    "def splicer(mystring):\n",
    "    if len(mystring)%2 ==0:   #CHECKES FOR EVEN LETTERS\n",
    "        return 'EVEN'\n",
    "    else:\n",
    "        return mystring[0]  #RETURNS JUST THE FIRST LETTER OF THE NAME IF THERE IS AN ODD NUMBER OF CHARACTERS"
   ]
  },
  {
   "cell_type": "code",
   "execution_count": 97,
   "id": "7dcf4373",
   "metadata": {},
   "outputs": [],
   "source": [
    "names = ['Andy','Eve','Sally']"
   ]
  },
  {
   "cell_type": "code",
   "execution_count": 102,
   "id": "e57d7d9b",
   "metadata": {},
   "outputs": [
    {
     "data": {
      "text/plain": [
       "['EVEN', 'E', 'S']"
      ]
     },
     "execution_count": 102,
     "metadata": {},
     "output_type": "execute_result"
    }
   ],
   "source": [
    "list(map(splicer,names)) \n",
    "#PASS THE FUNCTION IN AS AN ARGUMENT SO YOU DONT NEED TO PUT () AFTER THE FUNCTION. MAP TAKES THE FUNCTIONS AND RUNS THROUGH EVERY ITEM IN THE LIST MAP(FUNCTION_NAME,LIST_NAME)"
   ]
  },
  {
   "cell_type": "code",
   "execution_count": 103,
   "id": "6fd862b1",
   "metadata": {},
   "outputs": [],
   "source": [
    "def check_even(num):\n",
    "    return num%2 ==0"
   ]
  },
  {
   "cell_type": "code",
   "execution_count": 104,
   "id": "058fccde",
   "metadata": {},
   "outputs": [],
   "source": [
    "mynums = [1,2,3,4,5,6]"
   ]
  },
  {
   "cell_type": "code",
   "execution_count": 108,
   "id": "ddc24800",
   "metadata": {},
   "outputs": [
    {
     "data": {
      "text/plain": [
       "[2, 4, 6]"
      ]
     },
     "execution_count": 108,
     "metadata": {},
     "output_type": "execute_result"
    }
   ],
   "source": [
    "list(filter(check_even,mynums)) #transform it to a list"
   ]
  },
  {
   "cell_type": "code",
   "execution_count": 109,
   "id": "8710bc32",
   "metadata": {},
   "outputs": [
    {
     "name": "stdout",
     "output_type": "stream",
     "text": [
      "2\n",
      "4\n",
      "6\n"
     ]
    }
   ],
   "source": [
    "#or iterate through it\n",
    "for n in filter(check_even,mynums):\n",
    "    print(n)"
   ]
  },
  {
   "cell_type": "code",
   "execution_count": 110,
   "id": "6b622feb",
   "metadata": {},
   "outputs": [],
   "source": [
    "def square(num):\n",
    "    result = num ** 2\n",
    "    return result"
   ]
  },
  {
   "cell_type": "code",
   "execution_count": 111,
   "id": "fe10216c",
   "metadata": {},
   "outputs": [
    {
     "data": {
      "text/plain": [
       "9"
      ]
     },
     "execution_count": 111,
     "metadata": {},
     "output_type": "execute_result"
    }
   ],
   "source": [
    "square(3)"
   ]
  },
  {
   "cell_type": "code",
   "execution_count": 113,
   "id": "5e5220c3",
   "metadata": {},
   "outputs": [
    {
     "data": {
      "text/plain": [
       "[1, 4, 9, 16, 25, 36]"
      ]
     },
     "execution_count": 113,
     "metadata": {},
     "output_type": "execute_result"
    }
   ],
   "source": [
    "list(map(lambda num:num**2,mynums)) #lambda in place of a creating a new function when you only want to use it once "
   ]
  },
  {
   "cell_type": "code",
   "execution_count": 114,
   "id": "6592e519",
   "metadata": {},
   "outputs": [
    {
     "data": {
      "text/plain": [
       "[2, 4, 6]"
      ]
     },
     "execution_count": 114,
     "metadata": {},
     "output_type": "execute_result"
    }
   ],
   "source": [
    "list(filter(lambda num:num%2 == 0, mynums))"
   ]
  },
  {
   "cell_type": "code",
   "execution_count": 116,
   "id": "71ed9a34",
   "metadata": {},
   "outputs": [
    {
     "data": {
      "text/plain": [
       "['Andy', 'Eve', 'Sally']"
      ]
     },
     "execution_count": 116,
     "metadata": {},
     "output_type": "execute_result"
    }
   ],
   "source": [
    "names"
   ]
  },
  {
   "cell_type": "code",
   "execution_count": 118,
   "id": "2d75f5b9",
   "metadata": {},
   "outputs": [
    {
     "data": {
      "text/plain": [
       "['A', 'E', 'S']"
      ]
     },
     "execution_count": 118,
     "metadata": {},
     "output_type": "execute_result"
    }
   ],
   "source": [
    "list(map(lambda name:name[0],names))"
   ]
  },
  {
   "cell_type": "markdown",
   "id": "2d33d49f",
   "metadata": {},
   "source": [
    "# LEGB EXAMPLE"
   ]
  },
  {
   "cell_type": "code",
   "execution_count": 121,
   "id": "dc816be6",
   "metadata": {},
   "outputs": [],
   "source": [
    "#GLOBAL\n",
    "name = 'THIS IS A GLOBAL STRING'\n",
    "\n",
    "def greet():\n",
    "    \n",
    "    #ENCLOSING - if there is no name string here then python will jump to GLOBAL\n",
    "    name = 'Sammy'\n",
    "    \n",
    "    def hello():\n",
    "        #LOCAL- if you comment out name, then python will jump up to the ENCLOSING\n",
    "        name = 'IM A LOCAL'\n",
    "        print('Hello '+name)\n",
    "        \n",
    "    hello()"
   ]
  },
  {
   "cell_type": "code",
   "execution_count": 122,
   "id": "d7ee0322",
   "metadata": {},
   "outputs": [
    {
     "name": "stdout",
     "output_type": "stream",
     "text": [
      "Hello IM A LOCAL\n"
     ]
    }
   ],
   "source": [
    "greet()"
   ]
  },
  {
   "cell_type": "code",
   "execution_count": 139,
   "id": "3d6204e5",
   "metadata": {},
   "outputs": [],
   "source": [
    "#CHANGING A GLOBAL VARIABLY LOCALLY\n",
    "x = 50   # -----> THE GLOBAL VARIABLE\n",
    "\n",
    "def func():\n",
    "    global x\n",
    "    print(f'X is {x}')\n",
    "    \n",
    "    #LOCAL REASSIGNMENT OF A GLOBAL VARIABLE!\n",
    "    x = 'NEW VALUE'\n",
    "    print(f'I JUST LOCALLY CHANGED GLOBAL X TO {x}')"
   ]
  },
  {
   "cell_type": "code",
   "execution_count": 140,
   "id": "950789b6",
   "metadata": {},
   "outputs": [
    {
     "name": "stdout",
     "output_type": "stream",
     "text": [
      "50\n"
     ]
    }
   ],
   "source": [
    "print(x)"
   ]
  },
  {
   "cell_type": "code",
   "execution_count": 141,
   "id": "adc79dc1",
   "metadata": {},
   "outputs": [
    {
     "name": "stdout",
     "output_type": "stream",
     "text": [
      "X is 50\n",
      "I JUST LOCALLY CHANGED GLOBAL X TO NEW VALUE\n"
     ]
    }
   ],
   "source": [
    "func()"
   ]
  },
  {
   "cell_type": "code",
   "execution_count": 142,
   "id": "8207fe1a",
   "metadata": {},
   "outputs": [
    {
     "name": "stdout",
     "output_type": "stream",
     "text": [
      "NEW VALUE\n"
     ]
    }
   ],
   "source": [
    "print(x)"
   ]
  },
  {
   "cell_type": "code",
   "execution_count": null,
   "id": "f4935109",
   "metadata": {},
   "outputs": [],
   "source": []
  }
 ],
 "metadata": {
  "kernelspec": {
   "display_name": "Python 3 (ipykernel)",
   "language": "python",
   "name": "python3"
  },
  "language_info": {
   "codemirror_mode": {
    "name": "ipython",
    "version": 3
   },
   "file_extension": ".py",
   "mimetype": "text/x-python",
   "name": "python",
   "nbconvert_exporter": "python",
   "pygments_lexer": "ipython3",
   "version": "3.9.7"
  }
 },
 "nbformat": 4,
 "nbformat_minor": 5
}
