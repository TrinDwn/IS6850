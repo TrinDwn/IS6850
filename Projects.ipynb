{
 "cells": [
  {
   "cell_type": "markdown",
   "id": "96c7adf4",
   "metadata": {},
   "source": [
    "# Project"
   ]
  },
  {
   "cell_type": "markdown",
   "id": "93734233",
   "metadata": {},
   "source": [
    "Mortgage Caluclator\n",
    "Calculate monthly payments of a fixed mortgage over give terms at a give rate."
   ]
  },
  {
   "cell_type": "code",
   "execution_count": 15,
   "id": "5c191ad2",
   "metadata": {},
   "outputs": [
    {
     "name": "stdout",
     "output_type": "stream",
     "text": [
      "Enter mortgage term(in months):360\n",
      "Enter interest rate: 3\n",
      "Enter loan value: 500000\n",
      "Monthly payment for a $500000.00 30.0 year mortgage at 3.00% interest rate is: $2108.02\n"
     ]
    }
   ],
   "source": [
    "months = int(input(\"Enter mortgage term(in months):\"))\n",
    "rate = float(input(\"Enter interest rate: \"))\n",
    "loan = float(input(\"Enter loan value: \"))\n",
    "\n",
    "monthly_rate = rate / 100/ 12\n",
    "payment = (monthly_rate / (1-(1 + monthly_rate)**(-months))) * loan\n",
    "\n",
    "print (\"Monthly payment for a $%.2f %s year mortgage at %.2f%% interest rate is: $%.2f\" % \n",
    "(loan,(months / 12), rate, payment))"
   ]
  },
  {
   "cell_type": "markdown",
   "id": "5d6c6973",
   "metadata": {},
   "source": [
    "Reverse a string"
   ]
  },
  {
   "cell_type": "code",
   "execution_count": 16,
   "id": "dfa7806b",
   "metadata": {},
   "outputs": [],
   "source": [
    "mystring = \"Hello, how are you\""
   ]
  },
  {
   "cell_type": "code",
   "execution_count": 17,
   "id": "69ddc97c",
   "metadata": {},
   "outputs": [
    {
     "data": {
      "text/plain": [
       "'e'"
      ]
     },
     "execution_count": 17,
     "metadata": {},
     "output_type": "execute_result"
    }
   ],
   "source": [
    "mystring[1]"
   ]
  },
  {
   "cell_type": "code",
   "execution_count": 22,
   "id": "e563a83a",
   "metadata": {},
   "outputs": [
    {
     "data": {
      "text/plain": [
       "'u'"
      ]
     },
     "execution_count": 22,
     "metadata": {},
     "output_type": "execute_result"
    }
   ],
   "source": [
    "mystring[-1:]"
   ]
  },
  {
   "cell_type": "code",
   "execution_count": 40,
   "id": "c66c8c5d",
   "metadata": {},
   "outputs": [
    {
     "name": "stdout",
     "output_type": "stream",
     "text": [
      "uoy era woh ,olleH\n"
     ]
    }
   ],
   "source": [
    "def mystring(string):\n",
    "    mystring = ''\n",
    "    num = len(string) - 1\n",
    "    for i in string:\n",
    "        mystring += string[num]\n",
    "        num-=1\n",
    "    return mystring\n",
    "\n",
    "print (mystring (\"Hello, how are you\"))"
   ]
  },
  {
   "cell_type": "code",
   "execution_count": null,
   "id": "e765a37a",
   "metadata": {},
   "outputs": [],
   "source": []
  },
  {
   "cell_type": "code",
   "execution_count": null,
   "id": "c7eaf015",
   "metadata": {},
   "outputs": [],
   "source": []
  }
 ],
 "metadata": {
  "kernelspec": {
   "display_name": "Python 3 (ipykernel)",
   "language": "python",
   "name": "python3"
  },
  "language_info": {
   "codemirror_mode": {
    "name": "ipython",
    "version": 3
   },
   "file_extension": ".py",
   "mimetype": "text/x-python",
   "name": "python",
   "nbconvert_exporter": "python",
   "pygments_lexer": "ipython3",
   "version": "3.9.7"
  }
 },
 "nbformat": 4,
 "nbformat_minor": 5
}
