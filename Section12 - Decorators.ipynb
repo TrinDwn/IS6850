{
 "cells": [
  {
   "cell_type": "code",
   "execution_count": 1,
   "id": "16e2a3dc",
   "metadata": {},
   "outputs": [],
   "source": [
    "def func():\n",
    "    return 1"
   ]
  },
  {
   "cell_type": "code",
   "execution_count": 2,
   "id": "1703aac8",
   "metadata": {},
   "outputs": [
    {
     "data": {
      "text/plain": [
       "1"
      ]
     },
     "execution_count": 2,
     "metadata": {},
     "output_type": "execute_result"
    }
   ],
   "source": [
    "func()"
   ]
  },
  {
   "cell_type": "code",
   "execution_count": 3,
   "id": "c0f06681",
   "metadata": {},
   "outputs": [],
   "source": [
    "def hello():\n",
    "    return \"Hello!\""
   ]
  },
  {
   "cell_type": "code",
   "execution_count": 4,
   "id": "b82d8599",
   "metadata": {},
   "outputs": [
    {
     "data": {
      "text/plain": [
       "<function __main__.hello()>"
      ]
     },
     "execution_count": 4,
     "metadata": {},
     "output_type": "execute_result"
    }
   ],
   "source": [
    "hello"
   ]
  },
  {
   "cell_type": "code",
   "execution_count": 5,
   "id": "8f69d8e0",
   "metadata": {},
   "outputs": [],
   "source": [
    "greet = hello"
   ]
  },
  {
   "cell_type": "code",
   "execution_count": 6,
   "id": "dc70466b",
   "metadata": {},
   "outputs": [
    {
     "data": {
      "text/plain": [
       "'Hello!'"
      ]
     },
     "execution_count": 6,
     "metadata": {},
     "output_type": "execute_result"
    }
   ],
   "source": [
    "greet()"
   ]
  },
  {
   "cell_type": "code",
   "execution_count": 7,
   "id": "5409884d",
   "metadata": {},
   "outputs": [],
   "source": [
    "del hello #deleting hello"
   ]
  },
  {
   "cell_type": "code",
   "execution_count": 8,
   "id": "fba6ea5c",
   "metadata": {},
   "outputs": [
    {
     "ename": "NameError",
     "evalue": "name 'hello' is not defined",
     "output_type": "error",
     "traceback": [
      "\u001b[1;31m---------------------------------------------------------------------------\u001b[0m",
      "\u001b[1;31mNameError\u001b[0m                                 Traceback (most recent call last)",
      "\u001b[1;32m~\\AppData\\Local\\Temp/ipykernel_21388/2674044599.py\u001b[0m in \u001b[0;36m<module>\u001b[1;34m\u001b[0m\n\u001b[1;32m----> 1\u001b[1;33m \u001b[0mhello\u001b[0m\u001b[1;33m(\u001b[0m\u001b[1;33m)\u001b[0m\u001b[1;33m\u001b[0m\u001b[1;33m\u001b[0m\u001b[0m\n\u001b[0m",
      "\u001b[1;31mNameError\u001b[0m: name 'hello' is not defined"
     ]
    }
   ],
   "source": [
    "hello() #error because hello is deleted"
   ]
  },
  {
   "cell_type": "code",
   "execution_count": 9,
   "id": "1e813910",
   "metadata": {},
   "outputs": [
    {
     "data": {
      "text/plain": [
       "'Hello!'"
      ]
     },
     "execution_count": 9,
     "metadata": {},
     "output_type": "execute_result"
    }
   ],
   "source": [
    "greet() #since a copy of hello was made, greet can still call it."
   ]
  },
  {
   "cell_type": "code",
   "execution_count": null,
   "id": "2ee47151",
   "metadata": {},
   "outputs": [],
   "source": []
  },
  {
   "cell_type": "code",
   "execution_count": null,
   "id": "15349fb2",
   "metadata": {},
   "outputs": [],
   "source": []
  },
  {
   "cell_type": "code",
   "execution_count": null,
   "id": "7374c8eb",
   "metadata": {},
   "outputs": [],
   "source": []
  },
  {
   "cell_type": "code",
   "execution_count": null,
   "id": "61eb045a",
   "metadata": {},
   "outputs": [],
   "source": []
  },
  {
   "cell_type": "markdown",
   "id": "b51430bf",
   "metadata": {},
   "source": [
    "#PAY ATTENTION TO INDENTATION.Greet AND WELCOME ARE ONLY PART OF THE HELLO FUNCTION\n",
    "\n",
    "def hello(name='Jose'):\n",
    "    print('The hello() function has been executed!')\n",
    "    \n",
    "    def greet():  #DEFINES GREET FUNCTION\n",
    "        return '\\t This is the greet() func inside hello!'\n",
    "    \n",
    "    def welcome(): #DEFINES WELCOME FUNCTION\n",
    "        return '\\t This is welcome() inside hello'\n",
    "    \n",
    "    print(greet())  #CALLS GREET FUNCTION\n",
    "    print(welcome()) #CALLS WELCOME FUNCTION\n",
    "    print('This is the end of the hello function!')\n",
    "    \n",
    "    \n",
    "\n",
    "#CANNOT CALL GREET OR WELCOME WITHOUT CALL HELLO UNLESS"
   ]
  },
  {
   "cell_type": "markdown",
   "id": "bc04ef01",
   "metadata": {},
   "source": [
    "hello()  #THERE'S THE INDENTATION AGAIN. GREET AND WELCOME ARE INSIDE THE HELLO FUNCTION\n",
    "\n",
    " WILL PRINT:\n",
    " \n",
    " The hello() function has been executed!\n",
    "         This is the greet() func inside hello!\n",
    "         This is welcome() inside hello\n",
    " This is the end of the hello function!"
   ]
  },
  {
   "cell_type": "code",
   "execution_count": null,
   "id": "2a72045a",
   "metadata": {},
   "outputs": [],
   "source": []
  },
  {
   "cell_type": "code",
   "execution_count": 27,
   "id": "e9363177",
   "metadata": {},
   "outputs": [],
   "source": [
    "#PAY ATTENTION TO INDENTATION.Greet AND WELCOME ARE ONLY PART OF THE HELLO FUNCTION\n",
    "\n",
    "def hello(name='Jose'):\n",
    "    print('The hello() function has been executed!')\n",
    "    \n",
    "    def greet():  #DEFINES GREET FUNCTION\n",
    "        return '\\t This is the greet() func inside hello!'\n",
    "    \n",
    "    def welcome(): #DEFINES WELCOME FUNCTION\n",
    "        return '\\t This is welcome() inside hello'\n",
    "    \n",
    "    \n",
    "    print(\"I am going to return a function!\")\n",
    "    \n",
    "    if name == 'Jose':    #checking for above functions depending on True or False\n",
    "        return greet\n",
    "    else:\n",
    "        return welcome\n",
    "    \n",
    "\n",
    "#CANNOT CALL GREET OR WELCOME WITHOUT CALL HELLO UNLESS"
   ]
  },
  {
   "cell_type": "code",
   "execution_count": 28,
   "id": "f2448fdd",
   "metadata": {},
   "outputs": [
    {
     "name": "stdout",
     "output_type": "stream",
     "text": [
      "The hello() function has been executed!\n",
      "I am going to return a function!\n"
     ]
    }
   ],
   "source": [
    "my_new_func = hello('Jose')   #This calls the greet function inside the hello function"
   ]
  },
  {
   "cell_type": "code",
   "execution_count": 29,
   "id": "d26373b6",
   "metadata": {},
   "outputs": [
    {
     "name": "stdout",
     "output_type": "stream",
     "text": [
      "\t This is the greet() func inside hello!\n"
     ]
    }
   ],
   "source": [
    "print(my_new_func())"
   ]
  },
  {
   "cell_type": "code",
   "execution_count": 33,
   "id": "58d3387f",
   "metadata": {},
   "outputs": [
    {
     "name": "stdout",
     "output_type": "stream",
     "text": [
      "The hello() function has been executed!\n",
      "I am going to return a function!\n"
     ]
    }
   ],
   "source": [
    "my_sec_func = hello('Ryan')   #THIS CALLS THE WELCOME FUNCTION INSIDE HELLO"
   ]
  },
  {
   "cell_type": "code",
   "execution_count": 34,
   "id": "71bf67e3",
   "metadata": {},
   "outputs": [
    {
     "name": "stdout",
     "output_type": "stream",
     "text": [
      "\t This is welcome() inside hello\n"
     ]
    }
   ],
   "source": [
    "print(my_sec_func())"
   ]
  },
  {
   "cell_type": "code",
   "execution_count": null,
   "id": "dfce341b",
   "metadata": {},
   "outputs": [],
   "source": []
  },
  {
   "cell_type": "markdown",
   "id": "8deb41b5",
   "metadata": {},
   "source": [
    "Return functions and execute them when we assign them to a new variable name"
   ]
  },
  {
   "cell_type": "code",
   "execution_count": 36,
   "id": "c470efcd",
   "metadata": {},
   "outputs": [],
   "source": [
    "\n",
    "def cool():\n",
    "    \n",
    "    def super_cool():\n",
    "        return 'I am very cool!'\n",
    "    \n",
    "    return super_cool\n",
    "        "
   ]
  },
  {
   "cell_type": "code",
   "execution_count": 37,
   "id": "b1f5d5e6",
   "metadata": {},
   "outputs": [],
   "source": [
    "some_func = cool()"
   ]
  },
  {
   "cell_type": "code",
   "execution_count": 38,
   "id": "1f53bae6",
   "metadata": {},
   "outputs": [
    {
     "data": {
      "text/plain": [
       "'I am very cool!'"
      ]
     },
     "execution_count": 38,
     "metadata": {},
     "output_type": "execute_result"
    }
   ],
   "source": [
    "some_func()"
   ]
  },
  {
   "cell_type": "code",
   "execution_count": null,
   "id": "74ef32e3",
   "metadata": {},
   "outputs": [],
   "source": []
  },
  {
   "cell_type": "markdown",
   "id": "20761235",
   "metadata": {},
   "source": [
    "Pass a function into another function"
   ]
  },
  {
   "cell_type": "code",
   "execution_count": 39,
   "id": "914163a4",
   "metadata": {},
   "outputs": [],
   "source": [
    "def hello():\n",
    "    return 'Hi Jose!'"
   ]
  },
  {
   "cell_type": "code",
   "execution_count": 42,
   "id": "d2b9ef9d",
   "metadata": {},
   "outputs": [],
   "source": [
    "def other(some_def_func):   #OTHER(HELLO)--> A FUNCTION IN A FUNCTION\n",
    "    print('Other code runs here!')  #FIRST PRINTS THIS LINE\n",
    "    print(some_def_func())  #THEN PRINTS HELLOS FUNCTION 'HI JOSE!'"
   ]
  },
  {
   "cell_type": "code",
   "execution_count": 43,
   "id": "12cf2e4b",
   "metadata": {},
   "outputs": [
    {
     "name": "stdout",
     "output_type": "stream",
     "text": [
      "Other code runs here!\n",
      "Hi Jose!\n"
     ]
    }
   ],
   "source": [
    "other(hello)    #this passes in the function. DO THIS TO DEFINE IT WITHIN THE 'OTHER' FUNCTION. TO EXECUTE TYPE HELLO()"
   ]
  },
  {
   "cell_type": "code",
   "execution_count": 44,
   "id": "2077eb49",
   "metadata": {},
   "outputs": [],
   "source": [
    "#CREATE A DECORATOR (ON/OFF SWITCH)\n",
    "\n",
    "def new_decorator(original_func):\n",
    "    \n",
    "    def wrap_func():\n",
    "        \n",
    "        print('Some extra code, before the original function')\n",
    "        \n",
    "        original_func()\n",
    "        \n",
    "        print('Some extra code, after the original function!')\n",
    "        \n",
    "    return wrap_func"
   ]
  },
  {
   "cell_type": "code",
   "execution_count": 45,
   "id": "baa805be",
   "metadata": {},
   "outputs": [],
   "source": [
    "def func_needs_decorator():\n",
    "    print('I want to be decorated!')\n",
    "    "
   ]
  },
  {
   "cell_type": "code",
   "execution_count": 46,
   "id": "7c8ca386",
   "metadata": {},
   "outputs": [
    {
     "name": "stdout",
     "output_type": "stream",
     "text": [
      "I want to be decorated!\n"
     ]
    }
   ],
   "source": [
    "func_needs_decorator()"
   ]
  },
  {
   "cell_type": "code",
   "execution_count": 47,
   "id": "061eeeb3",
   "metadata": {},
   "outputs": [],
   "source": [
    "#defining a function that is = to function(within a function)\n",
    "\n",
    "decorated_func = new_decorator(func_needs_decorator)"
   ]
  },
  {
   "cell_type": "code",
   "execution_count": 48,
   "id": "c5d6406e",
   "metadata": {},
   "outputs": [
    {
     "name": "stdout",
     "output_type": "stream",
     "text": [
      "Some extra code, before the original function\n",
      "I want to be decorated!\n",
      "Some extra code, after the original function!\n"
     ]
    }
   ],
   "source": [
    "decorated_func()"
   ]
  },
  {
   "cell_type": "code",
   "execution_count": 49,
   "id": "045ee5fe",
   "metadata": {},
   "outputs": [],
   "source": [
    "#create the on/off switch with @new_decorator. \n",
    "\n",
    "@new_decorator\n",
    "def func_needs_decorator():\n",
    "    print('I want to be decorated!')"
   ]
  },
  {
   "cell_type": "code",
   "execution_count": 50,
   "id": "b0e37f42",
   "metadata": {},
   "outputs": [
    {
     "name": "stdout",
     "output_type": "stream",
     "text": [
      "Some extra code, before the original function\n",
      "I want to be decorated!\n",
      "Some extra code, after the original function!\n"
     ]
    }
   ],
   "source": [
    "func_needs_decorator()"
   ]
  },
  {
   "cell_type": "code",
   "execution_count": null,
   "id": "23fbb96b",
   "metadata": {},
   "outputs": [],
   "source": []
  }
 ],
 "metadata": {
  "kernelspec": {
   "display_name": "Python 3 (ipykernel)",
   "language": "python",
   "name": "python3"
  },
  "language_info": {
   "codemirror_mode": {
    "name": "ipython",
    "version": 3
   },
   "file_extension": ".py",
   "mimetype": "text/x-python",
   "name": "python",
   "nbconvert_exporter": "python",
   "pygments_lexer": "ipython3",
   "version": "3.9.7"
  }
 },
 "nbformat": 4,
 "nbformat_minor": 5
}
